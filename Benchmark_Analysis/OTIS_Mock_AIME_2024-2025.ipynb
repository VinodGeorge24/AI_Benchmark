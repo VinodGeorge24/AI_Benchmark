{
 "cells": [
  {
   "cell_type": "markdown",
   "id": "42e9a204-8ae0-4777-b9d5-95394ee88d78",
   "metadata": {},
   "source": [
    "# Benchmark Analysis: OTIS Mock AIME 2024-2025"
   ]
  },
  {
   "cell_type": "code",
   "execution_count": 1,
   "id": "2c2152a1-6411-45c3-91c5-82a6f23955d2",
   "metadata": {},
   "outputs": [],
   "source": [
    "import pandas as pd\n",
    "import matplotlib.pyplot as plt\n",
    "import seaborn as sns"
   ]
  },
  {
   "cell_type": "markdown",
   "id": "b12a5a36-2849-4e53-9ea9-657dad8f835b",
   "metadata": {},
   "source": [
    "**What is OTIS Mock AIME 2024-2025?** \n",
    "\n",
    "*Olympiad Training for Individual Study (OTIS)*, a proof-based olympiad training program, creates a mock version of the *American Invitational Mathematics Examination (AIME)* for the 2024-2025 timeframe. The AIME is a challenging mathematics competition for high school students who perform well on the *AMC (American Mathematics Competitions)*. This benchmark specifically tests advanced problem-solving skills in mathematics, focusing on areas like combinatorics, number theory, algebra, and geometry, often requiring creative and insightful solutions. The score indicates the number of correct answers or a similar performance metric on this mock exam."
   ]
  },
  {
   "cell_type": "markdown",
   "id": "779686d7-40e8-452f-8d1b-9a7bfecebe73",
   "metadata": {},
   "source": [
    "**Difference with MATH Level 5**\n",
    "\n",
    "*MATH level 5* is a more general assessment of strong high school-level mathematics.\n",
    "\n",
    "*OTIS Mock AIME* is a much more specialized and significantly harder test designed to challenge the very best high school mathematics students. It delves deeper into specific mathematical areas and requires a higher level of problem-solving creativity and sophistication."
   ]
  },
  {
   "cell_type": "markdown",
   "id": "bb504d82-9516-464d-8e40-5a90ee485605",
   "metadata": {},
   "source": [
    "## File Reading and Dataset Preparation"
   ]
  },
  {
   "cell_type": "code",
   "execution_count": 2,
   "id": "1ea1f6cf-e3dd-4a3d-9731-be4cf3762552",
   "metadata": {},
   "outputs": [],
   "source": [
    "df = pd.read_csv(\"master.csv\")\n",
    "# Convert 'Version Release Date' to datetime objects\n",
    "df['Version Release Date'] = pd.to_datetime(df['Version Release Date'])"
   ]
  },
  {
   "cell_type": "code",
   "execution_count": 3,
   "id": "e54c1c86-f05f-4e98-a52e-4fdf37e7bafc",
   "metadata": {},
   "outputs": [
    {
     "data": {
      "text/html": [
       "<div>\n",
       "<style scoped>\n",
       "    .dataframe tbody tr th:only-of-type {\n",
       "        vertical-align: middle;\n",
       "    }\n",
       "\n",
       "    .dataframe tbody tr th {\n",
       "        vertical-align: top;\n",
       "    }\n",
       "\n",
       "    .dataframe thead th {\n",
       "        text-align: right;\n",
       "    }\n",
       "</style>\n",
       "<table border=\"1\" class=\"dataframe\">\n",
       "  <thead>\n",
       "    <tr style=\"text-align: right;\">\n",
       "      <th></th>\n",
       "      <th>Model Name</th>\n",
       "      <th>Version Release Date</th>\n",
       "      <th>Benchmark</th>\n",
       "      <th>Benchmark Score</th>\n",
       "      <th>Organization</th>\n",
       "      <th>Country</th>\n",
       "    </tr>\n",
       "  </thead>\n",
       "  <tbody>\n",
       "    <tr>\n",
       "      <th>0</th>\n",
       "      <td>Claude 2</td>\n",
       "      <td>2023-07-11</td>\n",
       "      <td>GPQA diamond</td>\n",
       "      <td>0.346591</td>\n",
       "      <td>Anthropic</td>\n",
       "      <td>United States of America</td>\n",
       "    </tr>\n",
       "    <tr>\n",
       "      <th>1</th>\n",
       "      <td>Claude 2</td>\n",
       "      <td>2023-07-11</td>\n",
       "      <td>MATH level 5</td>\n",
       "      <td>0.117258</td>\n",
       "      <td>Anthropic</td>\n",
       "      <td>United States of America</td>\n",
       "    </tr>\n",
       "    <tr>\n",
       "      <th>2</th>\n",
       "      <td>Claude 2.1</td>\n",
       "      <td>2023-11-21</td>\n",
       "      <td>GPQA diamond</td>\n",
       "      <td>0.329545</td>\n",
       "      <td>Anthropic</td>\n",
       "      <td>United States of America</td>\n",
       "    </tr>\n",
       "    <tr>\n",
       "      <th>3</th>\n",
       "      <td>Claude 3.5 Sonnet</td>\n",
       "      <td>2024-06-20</td>\n",
       "      <td>GPQA diamond</td>\n",
       "      <td>0.540404</td>\n",
       "      <td>Anthropic</td>\n",
       "      <td>United States of America</td>\n",
       "    </tr>\n",
       "    <tr>\n",
       "      <th>4</th>\n",
       "      <td>Claude 3.5 Sonnet</td>\n",
       "      <td>2024-06-20</td>\n",
       "      <td>MATH level 5</td>\n",
       "      <td>0.516805</td>\n",
       "      <td>Anthropic</td>\n",
       "      <td>United States of America</td>\n",
       "    </tr>\n",
       "  </tbody>\n",
       "</table>\n",
       "</div>"
      ],
      "text/plain": [
       "          Model Name Version Release Date     Benchmark  Benchmark Score  \\\n",
       "0           Claude 2           2023-07-11  GPQA diamond         0.346591   \n",
       "1           Claude 2           2023-07-11  MATH level 5         0.117258   \n",
       "2         Claude 2.1           2023-11-21  GPQA diamond         0.329545   \n",
       "3  Claude 3.5 Sonnet           2024-06-20  GPQA diamond         0.540404   \n",
       "4  Claude 3.5 Sonnet           2024-06-20  MATH level 5         0.516805   \n",
       "\n",
       "  Organization                   Country  \n",
       "0    Anthropic  United States of America  \n",
       "1    Anthropic  United States of America  \n",
       "2    Anthropic  United States of America  \n",
       "3    Anthropic  United States of America  \n",
       "4    Anthropic  United States of America  "
      ]
     },
     "execution_count": 3,
     "metadata": {},
     "output_type": "execute_result"
    }
   ],
   "source": [
    "df.head()"
   ]
  },
  {
   "cell_type": "code",
   "execution_count": 4,
   "id": "a3f06a7f-5739-41eb-8345-eac85ab930d2",
   "metadata": {},
   "outputs": [
    {
     "name": "stdout",
     "output_type": "stream",
     "text": [
      "<class 'pandas.core.frame.DataFrame'>\n",
      "RangeIndex: 326 entries, 0 to 325\n",
      "Data columns (total 6 columns):\n",
      " #   Column                Non-Null Count  Dtype         \n",
      "---  ------                --------------  -----         \n",
      " 0   Model Name            326 non-null    object        \n",
      " 1   Version Release Date  326 non-null    datetime64[ns]\n",
      " 2   Benchmark             326 non-null    object        \n",
      " 3   Benchmark Score       326 non-null    float64       \n",
      " 4   Organization          326 non-null    object        \n",
      " 5   Country               326 non-null    object        \n",
      "dtypes: datetime64[ns](1), float64(1), object(4)\n",
      "memory usage: 15.4+ KB\n"
     ]
    }
   ],
   "source": [
    "df.info()"
   ]
  },
  {
   "cell_type": "markdown",
   "id": "bca5758d-e7f5-4022-b9df-718171fb0bd0",
   "metadata": {},
   "source": [
    "#### Data Preparation For This Analysis"
   ]
  },
  {
   "cell_type": "code",
   "execution_count": 5,
   "id": "0faba9e9-a49d-48c1-a8c3-68cd5606e0ff",
   "metadata": {},
   "outputs": [
    {
     "data": {
      "text/html": [
       "<div>\n",
       "<style scoped>\n",
       "    .dataframe tbody tr th:only-of-type {\n",
       "        vertical-align: middle;\n",
       "    }\n",
       "\n",
       "    .dataframe tbody tr th {\n",
       "        vertical-align: top;\n",
       "    }\n",
       "\n",
       "    .dataframe thead th {\n",
       "        text-align: right;\n",
       "    }\n",
       "</style>\n",
       "<table border=\"1\" class=\"dataframe\">\n",
       "  <thead>\n",
       "    <tr style=\"text-align: right;\">\n",
       "      <th></th>\n",
       "      <th>Model Name</th>\n",
       "      <th>Version Release Date</th>\n",
       "      <th>Benchmark</th>\n",
       "      <th>Benchmark Score</th>\n",
       "      <th>Organization</th>\n",
       "      <th>Country</th>\n",
       "    </tr>\n",
       "  </thead>\n",
       "  <tbody>\n",
       "    <tr>\n",
       "      <th>137</th>\n",
       "      <td>Mistral Large 2</td>\n",
       "      <td>2024-07-24</td>\n",
       "      <td>OTIS Mock AIME 2024-2025</td>\n",
       "      <td>0.084722</td>\n",
       "      <td>Mistral AI</td>\n",
       "      <td>France</td>\n",
       "    </tr>\n",
       "    <tr>\n",
       "      <th>138</th>\n",
       "      <td>DeepSeek-R1</td>\n",
       "      <td>2025-01-20</td>\n",
       "      <td>OTIS Mock AIME 2024-2025</td>\n",
       "      <td>0.533333</td>\n",
       "      <td>DeepSeek</td>\n",
       "      <td>China</td>\n",
       "    </tr>\n",
       "    <tr>\n",
       "      <th>139</th>\n",
       "      <td>Gemini 2.0 Flash</td>\n",
       "      <td>2025-02-05</td>\n",
       "      <td>OTIS Mock AIME 2024-2025</td>\n",
       "      <td>0.311111</td>\n",
       "      <td>Google</td>\n",
       "      <td>United States of America</td>\n",
       "    </tr>\n",
       "    <tr>\n",
       "      <th>142</th>\n",
       "      <td>GPT-4o</td>\n",
       "      <td>2024-11-20</td>\n",
       "      <td>OTIS Mock AIME 2024-2025</td>\n",
       "      <td>0.062500</td>\n",
       "      <td>OpenAI</td>\n",
       "      <td>United States of America</td>\n",
       "    </tr>\n",
       "    <tr>\n",
       "      <th>143</th>\n",
       "      <td>Phi-4</td>\n",
       "      <td>2024-12-12</td>\n",
       "      <td>OTIS Mock AIME 2024-2025</td>\n",
       "      <td>0.137500</td>\n",
       "      <td>Microsoft</td>\n",
       "      <td>United States of America</td>\n",
       "    </tr>\n",
       "  </tbody>\n",
       "</table>\n",
       "</div>"
      ],
      "text/plain": [
       "           Model Name Version Release Date                 Benchmark  \\\n",
       "137   Mistral Large 2           2024-07-24  OTIS Mock AIME 2024-2025   \n",
       "138       DeepSeek-R1           2025-01-20  OTIS Mock AIME 2024-2025   \n",
       "139  Gemini 2.0 Flash           2025-02-05  OTIS Mock AIME 2024-2025   \n",
       "142            GPT-4o           2024-11-20  OTIS Mock AIME 2024-2025   \n",
       "143             Phi-4           2024-12-12  OTIS Mock AIME 2024-2025   \n",
       "\n",
       "     Benchmark Score Organization                   Country  \n",
       "137         0.084722   Mistral AI                    France  \n",
       "138         0.533333     DeepSeek                     China  \n",
       "139         0.311111       Google  United States of America  \n",
       "142         0.062500       OpenAI  United States of America  \n",
       "143         0.137500    Microsoft  United States of America  "
      ]
     },
     "execution_count": 5,
     "metadata": {},
     "output_type": "execute_result"
    }
   ],
   "source": [
    "mock_AIME = df[df[\"Benchmark\"] == \"OTIS Mock AIME 2024-2025\"]\n",
    "mock_AIME.head()"
   ]
  },
  {
   "cell_type": "code",
   "execution_count": 6,
   "id": "4cfb2562-10e5-48e9-9fa0-9bf047582b26",
   "metadata": {},
   "outputs": [
    {
     "name": "stdout",
     "output_type": "stream",
     "text": [
      "<class 'pandas.core.frame.DataFrame'>\n",
      "Index: 71 entries, 137 to 315\n",
      "Data columns (total 6 columns):\n",
      " #   Column                Non-Null Count  Dtype         \n",
      "---  ------                --------------  -----         \n",
      " 0   Model Name            71 non-null     object        \n",
      " 1   Version Release Date  71 non-null     datetime64[ns]\n",
      " 2   Benchmark             71 non-null     object        \n",
      " 3   Benchmark Score       71 non-null     float64       \n",
      " 4   Organization          71 non-null     object        \n",
      " 5   Country               71 non-null     object        \n",
      "dtypes: datetime64[ns](1), float64(1), object(4)\n",
      "memory usage: 3.9+ KB\n"
     ]
    }
   ],
   "source": [
    "mock_AIME.info()"
   ]
  },
  {
   "cell_type": "markdown",
   "id": "27f75c86-1c44-4599-8f21-cc23d225398f",
   "metadata": {},
   "source": [
    "## EDA"
   ]
  },
  {
   "cell_type": "markdown",
   "id": "6b471743-d03e-4134-bd70-ed74c0b65490",
   "metadata": {},
   "source": [
    "#### Master data"
   ]
  },
  {
   "cell_type": "code",
   "execution_count": 7,
   "id": "79397b4a-27db-4727-b187-bb40988e54d7",
   "metadata": {},
   "outputs": [
    {
     "name": "stdout",
     "output_type": "stream",
     "text": [
      "Number of Unique Models: 81\n",
      "\n",
      "Number of Observations for Each Benchmark: \n"
     ]
    },
    {
     "data": {
      "text/plain": [
       "Benchmark\n",
       "GPQA diamond                       99\n",
       "MATH level 5                       92\n",
       "OTIS Mock AIME 2024-2025           71\n",
       "FrontierMath-2025-02-28-Private    32\n",
       "FrontierMath-2025-02-28-Public     28\n",
       "SWE-Bench verified                  4\n",
       "Name: count, dtype: int64"
      ]
     },
     "execution_count": 7,
     "metadata": {},
     "output_type": "execute_result"
    }
   ],
   "source": [
    "# List of unique models\n",
    "model_names = df['Model Name'].unique()\n",
    "print(f\"Number of Unique Models: {len(model_names)}\")\n",
    "print(\"\\n\" + \"Number of Observations for Each Benchmark: \")\n",
    "df.value_counts('Benchmark') "
   ]
  },
  {
   "cell_type": "markdown",
   "id": "1bc6465c-bf99-4968-882d-eced068126f4",
   "metadata": {},
   "source": [
    "**Note:** Some models took the same test multiple times"
   ]
  },
  {
   "cell_type": "markdown",
   "id": "0b1e79ed-6584-4da6-a07e-9a0afceaa46d",
   "metadata": {},
   "source": [
    "#### Mock AIME data"
   ]
  },
  {
   "cell_type": "code",
   "execution_count": 8,
   "id": "640499de-2d75-4016-b6ae-f87c7bfa65fc",
   "metadata": {},
   "outputs": [
    {
     "name": "stdout",
     "output_type": "stream",
     "text": [
      "\n",
      "Number of Observations by Organization:\n"
     ]
    },
    {
     "data": {
      "text/plain": [
       "Organization\n",
       "OpenAI                      16\n",
       "Anthropic                   12\n",
       "Google                      12\n",
       "Meta AI                     10\n",
       "Alibaba                      5\n",
       "Mistral AI                   5\n",
       "DeepSeek                     4\n",
       "xAI                          4\n",
       "Arcee AI                     1\n",
       "Microsoft                    1\n",
       "University of Washington     1\n",
       "Name: count, dtype: int64"
      ]
     },
     "execution_count": 8,
     "metadata": {},
     "output_type": "execute_result"
    }
   ],
   "source": [
    "print(\"\\n\" + \"Number of Observations by Organization:\")\n",
    "mock_AIME.value_counts(\"Organization\")"
   ]
  },
  {
   "cell_type": "code",
   "execution_count": 9,
   "id": "233027dd-d186-4f95-8094-a916d7de610e",
   "metadata": {},
   "outputs": [
    {
     "name": "stdout",
     "output_type": "stream",
     "text": [
      "\n",
      "Number of Observations by Country:\n"
     ]
    },
    {
     "data": {
      "text/plain": [
       "Country\n",
       "United States of America    57\n",
       "China                        9\n",
       "France                       5\n",
       "Name: count, dtype: int64"
      ]
     },
     "execution_count": 9,
     "metadata": {},
     "output_type": "execute_result"
    }
   ],
   "source": [
    "print(\"\\n\" + \"Number of Observations by Country:\")\n",
    "mock_AIME.value_counts(\"Country\")"
   ]
  },
  {
   "cell_type": "code",
   "execution_count": 10,
   "id": "fccab20b-65bd-4cb8-bf85-c91bf4f53293",
   "metadata": {},
   "outputs": [
    {
     "name": "stdout",
     "output_type": "stream",
     "text": [
      "\n",
      "Number of Observations by Model Name (more than one):\n"
     ]
    },
    {
     "data": {
      "text/plain": [
       "Model Name\n",
       "Claude 3.7 Sonnet    4\n",
       "GPT-4o               3\n",
       "Mistral Large 2      2\n",
       "Grok-3 mini          2\n",
       "DeepSeek-V3          2\n",
       "Gemini 1.5 Flash     2\n",
       "Claude 3.5 Sonnet    2\n",
       "Gemini 1.5 Pro       2\n",
       "o1-mini              2\n",
       "o3-mini              2\n",
       "Name: count, dtype: int64"
      ]
     },
     "execution_count": 10,
     "metadata": {},
     "output_type": "execute_result"
    }
   ],
   "source": [
    "# Identify models that took the test more than once\n",
    "model_counts = mock_AIME['Model Name'].value_counts()\n",
    "models_tested_more_than_once = model_counts[model_counts > 1].index.tolist()\n",
    "print(\"\\n\" + \"Number of Observations by Model Name (more than one):\")\n",
    "model_counts[model_counts > 1]"
   ]
  },
  {
   "cell_type": "code",
   "execution_count": 11,
   "id": "5f4c39b9-f45d-4bb7-9f9b-4ed80446f37a",
   "metadata": {},
   "outputs": [
    {
     "name": "stdout",
     "output_type": "stream",
     "text": [
      "            Model Name Version Release Date  Benchmark Score\n",
      "155  Claude 3.7 Sonnet           2025-02-24         0.219444\n",
      "178  Claude 3.7 Sonnet           2025-02-24         0.466667\n",
      "232  Claude 3.7 Sonnet           2025-02-24         0.533333\n",
      "242  Claude 3.7 Sonnet           2025-02-24         0.577778\n",
      "    Model Name Version Release Date  Benchmark Score\n",
      "142     GPT-4o           2024-11-20         0.062500\n",
      "147     GPT-4o           2024-05-13         0.062500\n",
      "148     GPT-4o           2024-08-06         0.063889\n",
      "          Model Name Version Release Date  Benchmark Score\n",
      "137  Mistral Large 2           2024-07-24         0.084722\n",
      "175  Mistral Large 2           2024-11-18         0.077778\n",
      "         Model Name Version Release Date  Benchmark Score\n",
      "160  Gemini 1.5 Pro           2024-09-24         0.230556\n",
      "161  Gemini 1.5 Pro           2024-05-24         0.068056\n",
      "           Model Name Version Release Date  Benchmark Score\n",
      "157  Gemini 1.5 Flash           2024-09-24         0.162500\n",
      "158  Gemini 1.5 Flash           2024-05-23         0.038889\n",
      "      Model Name Version Release Date  Benchmark Score\n",
      "171  DeepSeek-V3           2024-12-26         0.158333\n",
      "251  DeepSeek-V3           2025-03-24         0.377778\n",
      "      Model Name Version Release Date  Benchmark Score\n",
      "280  Grok-3 mini           2025-04-09         0.777778\n",
      "285  Grok-3 mini           2025-04-09         0.622222\n",
      "            Model Name Version Release Date  Benchmark Score\n",
      "153  Claude 3.5 Sonnet           2024-06-20         0.065278\n",
      "154  Claude 3.5 Sonnet           2024-10-22         0.084722\n",
      "    Model Name Version Release Date  Benchmark Score\n",
      "198    o1-mini           2024-09-12         0.469444\n",
      "199    o1-mini           2024-09-12         0.447222\n",
      "    Model Name Version Release Date  Benchmark Score\n",
      "144    o3-mini           2025-01-31         0.638889\n",
      "146    o3-mini           2025-01-31         0.769444\n"
     ]
    }
   ],
   "source": [
    "# Investigate the models that took the test more than once\n",
    "a = mock_AIME.value_counts(\"Model Name\")[:10]\n",
    "for model in a.index:\n",
    "    print(mock_AIME[mock_AIME['Model Name'] == model][['Model Name', 'Version Release Date', 'Benchmark Score']])"
   ]
  },
  {
   "cell_type": "markdown",
   "id": "ca586992-2b16-4ca0-a7d9-c3e1791cf725",
   "metadata": {},
   "source": [
    "##### Summary of Findings\n",
    "- Some models have different benchmark scores, but have the same version release date **>> I'll use the observation with the highest score**\n",
    "- Remaining models have different benchmark scores, and have different version release dates **>> I'll use the observation with the latest version**"
   ]
  },
  {
   "cell_type": "markdown",
   "id": "7cdc3585-4991-4aef-9e2a-69c9ebfcf390",
   "metadata": {},
   "source": [
    "##### Data Cleaning"
   ]
  },
  {
   "cell_type": "code",
   "execution_count": 12,
   "id": "5da9a7e3-2c8d-4fdf-828d-e4defeb40a0d",
   "metadata": {},
   "outputs": [
    {
     "name": "stdout",
     "output_type": "stream",
     "text": [
      "<class 'pandas.core.frame.DataFrame'>\n",
      "RangeIndex: 65 entries, 0 to 64\n",
      "Data columns (total 6 columns):\n",
      " #   Column                Non-Null Count  Dtype         \n",
      "---  ------                --------------  -----         \n",
      " 0   Model Name            65 non-null     object        \n",
      " 1   Version Release Date  65 non-null     datetime64[ns]\n",
      " 2   Benchmark             65 non-null     object        \n",
      " 3   Benchmark Score       65 non-null     float64       \n",
      " 4   Organization          65 non-null     object        \n",
      " 5   Country               65 non-null     object        \n",
      "dtypes: datetime64[ns](1), float64(1), object(4)\n",
      "memory usage: 3.2+ KB\n"
     ]
    }
   ],
   "source": [
    "# Sort the DataFrame by 'Model Name', 'Version Release Date', and 'Benchmark Score' (descending)\n",
    "sorted_df = mock_AIME.sort_values(['Model Name', 'Version Release Date', 'Benchmark Score'], ascending=[True, False, False])\n",
    "\n",
    "# Group by 'Model Name' and 'Version Release Date' and keep the first row (highest score)\n",
    "mock_AIME = sorted_df.groupby(['Model Name', 'Version Release Date']).first().reset_index()\n",
    "\n",
    "mock_AIME.info()"
   ]
  },
  {
   "cell_type": "code",
   "execution_count": 13,
   "id": "4c6fdad7-576d-41fe-8bcd-41b91b7799b4",
   "metadata": {},
   "outputs": [
    {
     "name": "stdout",
     "output_type": "stream",
     "text": [
      "<class 'pandas.core.frame.DataFrame'>\n",
      "RangeIndex: 58 entries, 0 to 57\n",
      "Data columns (total 6 columns):\n",
      " #   Column                Non-Null Count  Dtype         \n",
      "---  ------                --------------  -----         \n",
      " 0   Model Name            58 non-null     object        \n",
      " 1   Version Release Date  58 non-null     datetime64[ns]\n",
      " 2   Benchmark             58 non-null     object        \n",
      " 3   Benchmark Score       58 non-null     float64       \n",
      " 4   Organization          58 non-null     object        \n",
      " 5   Country               58 non-null     object        \n",
      "dtypes: datetime64[ns](1), float64(1), object(4)\n",
      "memory usage: 2.8+ KB\n"
     ]
    }
   ],
   "source": [
    "# Sort the DataFrame by 'Model Name' and then by 'Version Release Date' in descending order\n",
    "mock_AIME.sort_values(['Model Name', 'Version Release Date'], ascending=[True, False], inplace=True)\n",
    "\n",
    "# Drop duplicates, keeping only the first occurrence (which is the latest due to sorting)\n",
    "mock_AIME.drop_duplicates(subset=['Model Name'], keep='first', inplace=True)\n",
    "\n",
    "# Reset the index of the modified DataFrame\n",
    "mock_AIME.reset_index(drop=True, inplace=True)\n",
    "mock_AIME.info()"
   ]
  },
  {
   "cell_type": "markdown",
   "id": "ef8d67fe-1da4-40f3-a316-4dc8b79659f6",
   "metadata": {},
   "source": [
    "#### Investigation on Models which haven't taken Mock AIME"
   ]
  },
  {
   "cell_type": "code",
   "execution_count": 14,
   "id": "59fd463e-0336-4708-9838-c3dc2f210152",
   "metadata": {},
   "outputs": [
    {
     "name": "stdout",
     "output_type": "stream",
     "text": [
      "\n",
      "Models which haven't taken Mock AIME:\n"
     ]
    },
    {
     "data": {
      "text/plain": [
       "['DBRX',\n",
       " 'DeepSeek LLM 67B',\n",
       " 'DeepSeek-R1-Distill-Qwen-14B',\n",
       " 'Eurus-2-7B-PRIME',\n",
       " 'GPT-3.5 Turbo',\n",
       " 'GPT-4',\n",
       " 'GPT-4o mini',\n",
       " 'Gemini 2.0 Pro',\n",
       " 'Gemini 2.5 Pro',\n",
       " 'Ministral 3B',\n",
       " 'Ministral 8B',\n",
       " 'Mistral 7B',\n",
       " 'Mistral NeMo',\n",
       " 'Mixtral 8x22B',\n",
       " 'Mixtral 8x7B',\n",
       " 'QWQ-Plus',\n",
       " 'Qwen1.5-32B',\n",
       " 'Qwen1.5-72B',\n",
       " 'Qwen2-72B',\n",
       " 'WizardLM-2 8x22B',\n",
       " 'Yi-1.5-34B',\n",
       " 'Yi-34B',\n",
       " 'phi-3-medium 14B']"
      ]
     },
     "execution_count": 14,
     "metadata": {},
     "output_type": "execute_result"
    }
   ],
   "source": [
    "print(\"\\n\" + \"Models which haven't taken Mock AIME:\")\n",
    "sorted([model for model in model_names if model not in mock_AIME['Model Name'].unique()])"
   ]
  },
  {
   "cell_type": "markdown",
   "id": "c80f9d9d-7e41-4cee-86ab-cb421585f5d5",
   "metadata": {},
   "source": [
    "##### Investigation on Some Models"
   ]
  },
  {
   "cell_type": "code",
   "execution_count": 15,
   "id": "faf0d822-59c3-4799-bcd4-67932b7cf41e",
   "metadata": {},
   "outputs": [
    {
     "data": {
      "text/html": [
       "<div>\n",
       "<style scoped>\n",
       "    .dataframe tbody tr th:only-of-type {\n",
       "        vertical-align: middle;\n",
       "    }\n",
       "\n",
       "    .dataframe tbody tr th {\n",
       "        vertical-align: top;\n",
       "    }\n",
       "\n",
       "    .dataframe thead th {\n",
       "        text-align: right;\n",
       "    }\n",
       "</style>\n",
       "<table border=\"1\" class=\"dataframe\">\n",
       "  <thead>\n",
       "    <tr style=\"text-align: right;\">\n",
       "      <th></th>\n",
       "      <th>Model Name</th>\n",
       "      <th>Version Release Date</th>\n",
       "      <th>Benchmark</th>\n",
       "      <th>Benchmark Score</th>\n",
       "      <th>Organization</th>\n",
       "      <th>Country</th>\n",
       "    </tr>\n",
       "  </thead>\n",
       "  <tbody>\n",
       "    <tr>\n",
       "      <th>27</th>\n",
       "      <td>GPT-4</td>\n",
       "      <td>2024-01-25</td>\n",
       "      <td>GPQA diamond</td>\n",
       "      <td>0.422664</td>\n",
       "      <td>OpenAI</td>\n",
       "      <td>United States of America</td>\n",
       "    </tr>\n",
       "    <tr>\n",
       "      <th>28</th>\n",
       "      <td>GPT-4</td>\n",
       "      <td>2023-06-13</td>\n",
       "      <td>GPQA diamond</td>\n",
       "      <td>0.306503</td>\n",
       "      <td>OpenAI</td>\n",
       "      <td>United States of America</td>\n",
       "    </tr>\n",
       "    <tr>\n",
       "      <th>29</th>\n",
       "      <td>GPT-4</td>\n",
       "      <td>2023-06-13</td>\n",
       "      <td>MATH level 5</td>\n",
       "      <td>0.229702</td>\n",
       "      <td>OpenAI</td>\n",
       "      <td>United States of America</td>\n",
       "    </tr>\n",
       "    <tr>\n",
       "      <th>30</th>\n",
       "      <td>GPT-4</td>\n",
       "      <td>2023-11-06</td>\n",
       "      <td>GPQA diamond</td>\n",
       "      <td>0.423611</td>\n",
       "      <td>OpenAI</td>\n",
       "      <td>United States of America</td>\n",
       "    </tr>\n",
       "    <tr>\n",
       "      <th>31</th>\n",
       "      <td>GPT-4</td>\n",
       "      <td>2023-11-06</td>\n",
       "      <td>MATH level 5</td>\n",
       "      <td>0.400208</td>\n",
       "      <td>OpenAI</td>\n",
       "      <td>United States of America</td>\n",
       "    </tr>\n",
       "    <tr>\n",
       "      <th>63</th>\n",
       "      <td>GPT-4</td>\n",
       "      <td>2024-01-25</td>\n",
       "      <td>MATH level 5</td>\n",
       "      <td>0.354135</td>\n",
       "      <td>OpenAI</td>\n",
       "      <td>United States of America</td>\n",
       "    </tr>\n",
       "  </tbody>\n",
       "</table>\n",
       "</div>"
      ],
      "text/plain": [
       "   Model Name Version Release Date     Benchmark  Benchmark Score  \\\n",
       "27      GPT-4           2024-01-25  GPQA diamond         0.422664   \n",
       "28      GPT-4           2023-06-13  GPQA diamond         0.306503   \n",
       "29      GPT-4           2023-06-13  MATH level 5         0.229702   \n",
       "30      GPT-4           2023-11-06  GPQA diamond         0.423611   \n",
       "31      GPT-4           2023-11-06  MATH level 5         0.400208   \n",
       "63      GPT-4           2024-01-25  MATH level 5         0.354135   \n",
       "\n",
       "   Organization                   Country  \n",
       "27       OpenAI  United States of America  \n",
       "28       OpenAI  United States of America  \n",
       "29       OpenAI  United States of America  \n",
       "30       OpenAI  United States of America  \n",
       "31       OpenAI  United States of America  \n",
       "63       OpenAI  United States of America  "
      ]
     },
     "execution_count": 15,
     "metadata": {},
     "output_type": "execute_result"
    }
   ],
   "source": [
    "df[df[\"Model Name\"] == 'GPT-4']"
   ]
  },
  {
   "cell_type": "code",
   "execution_count": 16,
   "id": "ac2c46f2-7ca1-4919-b74f-dd76758b314b",
   "metadata": {},
   "outputs": [
    {
     "data": {
      "text/html": [
       "<div>\n",
       "<style scoped>\n",
       "    .dataframe tbody tr th:only-of-type {\n",
       "        vertical-align: middle;\n",
       "    }\n",
       "\n",
       "    .dataframe tbody tr th {\n",
       "        vertical-align: top;\n",
       "    }\n",
       "\n",
       "    .dataframe thead th {\n",
       "        text-align: right;\n",
       "    }\n",
       "</style>\n",
       "<table border=\"1\" class=\"dataframe\">\n",
       "  <thead>\n",
       "    <tr style=\"text-align: right;\">\n",
       "      <th></th>\n",
       "      <th>Model Name</th>\n",
       "      <th>Version Release Date</th>\n",
       "      <th>Benchmark</th>\n",
       "      <th>Benchmark Score</th>\n",
       "      <th>Organization</th>\n",
       "      <th>Country</th>\n",
       "    </tr>\n",
       "  </thead>\n",
       "  <tbody>\n",
       "    <tr>\n",
       "      <th>80</th>\n",
       "      <td>Ministral 3B</td>\n",
       "      <td>2024-10-16</td>\n",
       "      <td>GPQA diamond</td>\n",
       "      <td>0.252525</td>\n",
       "      <td>Mistral AI</td>\n",
       "      <td>France</td>\n",
       "    </tr>\n",
       "    <tr>\n",
       "      <th>88</th>\n",
       "      <td>Ministral 3B</td>\n",
       "      <td>2024-10-16</td>\n",
       "      <td>MATH level 5</td>\n",
       "      <td>0.144449</td>\n",
       "      <td>Mistral AI</td>\n",
       "      <td>France</td>\n",
       "    </tr>\n",
       "  </tbody>\n",
       "</table>\n",
       "</div>"
      ],
      "text/plain": [
       "      Model Name Version Release Date     Benchmark  Benchmark Score  \\\n",
       "80  Ministral 3B           2024-10-16  GPQA diamond         0.252525   \n",
       "88  Ministral 3B           2024-10-16  MATH level 5         0.144449   \n",
       "\n",
       "   Organization Country  \n",
       "80   Mistral AI  France  \n",
       "88   Mistral AI  France  "
      ]
     },
     "execution_count": 16,
     "metadata": {},
     "output_type": "execute_result"
    }
   ],
   "source": [
    "df[df[\"Model Name\"] == 'Ministral 3B']"
   ]
  },
  {
   "cell_type": "code",
   "execution_count": 17,
   "id": "80d068c5-3a8a-49a2-bbfc-c0507fe5fdd8",
   "metadata": {},
   "outputs": [
    {
     "data": {
      "text/html": [
       "<div>\n",
       "<style scoped>\n",
       "    .dataframe tbody tr th:only-of-type {\n",
       "        vertical-align: middle;\n",
       "    }\n",
       "\n",
       "    .dataframe tbody tr th {\n",
       "        vertical-align: top;\n",
       "    }\n",
       "\n",
       "    .dataframe thead th {\n",
       "        text-align: right;\n",
       "    }\n",
       "</style>\n",
       "<table border=\"1\" class=\"dataframe\">\n",
       "  <thead>\n",
       "    <tr style=\"text-align: right;\">\n",
       "      <th></th>\n",
       "      <th>Model Name</th>\n",
       "      <th>Version Release Date</th>\n",
       "      <th>Benchmark</th>\n",
       "      <th>Benchmark Score</th>\n",
       "      <th>Organization</th>\n",
       "      <th>Country</th>\n",
       "    </tr>\n",
       "  </thead>\n",
       "  <tbody>\n",
       "    <tr>\n",
       "      <th>74</th>\n",
       "      <td>WizardLM-2 8x22B</td>\n",
       "      <td>2024-04-15</td>\n",
       "      <td>GPQA diamond</td>\n",
       "      <td>0.434343</td>\n",
       "      <td>01.AI</td>\n",
       "      <td>China</td>\n",
       "    </tr>\n",
       "    <tr>\n",
       "      <th>76</th>\n",
       "      <td>WizardLM-2 8x22B</td>\n",
       "      <td>2024-04-15</td>\n",
       "      <td>MATH level 5</td>\n",
       "      <td>0.257364</td>\n",
       "      <td>01.AI</td>\n",
       "      <td>China</td>\n",
       "    </tr>\n",
       "  </tbody>\n",
       "</table>\n",
       "</div>"
      ],
      "text/plain": [
       "          Model Name Version Release Date     Benchmark  Benchmark Score  \\\n",
       "74  WizardLM-2 8x22B           2024-04-15  GPQA diamond         0.434343   \n",
       "76  WizardLM-2 8x22B           2024-04-15  MATH level 5         0.257364   \n",
       "\n",
       "   Organization Country  \n",
       "74        01.AI   China  \n",
       "76        01.AI   China  "
      ]
     },
     "execution_count": 17,
     "metadata": {},
     "output_type": "execute_result"
    }
   ],
   "source": [
    "df[df[\"Model Name\"] == 'WizardLM-2 8x22B']"
   ]
  },
  {
   "cell_type": "markdown",
   "id": "f77cc3f5-cfa0-4d5c-9c40-924829a92231",
   "metadata": {},
   "source": [
    "##### Summary of Findings\n",
    "The architectures and the sizes of the models vary."
   ]
  },
  {
   "cell_type": "markdown",
   "id": "00a1224f-6f22-43b6-a4f2-bb8998dedc51",
   "metadata": {},
   "source": [
    "## Visualizations and Analysis"
   ]
  },
  {
   "cell_type": "markdown",
   "id": "c43d7603-dd6c-4338-a803-bf87c62681da",
   "metadata": {},
   "source": [
    "#### Performance Improvement Over Time"
   ]
  },
  {
   "cell_type": "code",
   "execution_count": 18,
   "id": "0611deaf-33d1-4521-87b4-82bdc8a694d5",
   "metadata": {},
   "outputs": [
    {
     "data": {
      "image/png": "[encoded data removed]",
      "text/plain": [
       "<Figure size 1200x600 with 1 Axes>"
      ]
     },
     "metadata": {},
     "output_type": "display_data"
    }
   ],
   "source": [
    "# Define open-source and closed-source organizations\n",
    "open_source_orgs = ['Meta AI', 'Alibaba', 'Mistral AI', 'DeepSeek', 'University of Washington']\n",
    "closed_source_orgs = ['OpenAI', 'Google', 'Anthropic', 'xAI', 'Arcee AI', 'Microsoft']\n",
    "\n",
    "# Create a new column 'Source Type' based on the organization\n",
    "def categorize_source(org):\n",
    "    if org in open_source_orgs:\n",
    "        return 'Open-Source'\n",
    "    elif org in closed_source_orgs:\n",
    "        return 'Closed-Source'\n",
    "    else:\n",
    "        return 'Unknown'\n",
    "\n",
    "mock_AIME['Source Type'] = mock_AIME['Organization'].apply(categorize_source)\n",
    "\n",
    "# Define the color palette\n",
    "color_palette = {\n",
    "    'Open-Source': '#72111F',\n",
    "    'Closed-Source': '#CBA052',\n",
    "    'Unknown': '#545658'\n",
    "}\n",
    "\n",
    "# Create the scatter plot with color based on 'Source Type'\n",
    "plt.figure(figsize=(12, 6))\n",
    "sns.scatterplot(x='Version Release Date', y='Benchmark Score', hue='Source Type', data=mock_AIME, alpha=0.8, s=80, palette=color_palette)\n",
    "\n",
    "# Add title and labels\n",
    "plt.title('Benchmark Score vs. Version Release Date (OTIS Mock AIME 2024-2025)')\n",
    "plt.xlabel('Version Release Date')\n",
    "plt.ylabel('Benchmark Score')\n",
    "plt.legend(title='Source Type')\n",
    "plt.tight_layout()\n",
    "plt.show()"
   ]
  },
  {
   "cell_type": "markdown",
   "id": "ceda1535-8fdf-4c50-94f7-332dc92f60e1",
   "metadata": {},
   "source": [
    "##### Summary of Findings\n",
    "\n",
    "**General Trend of Improvement:** Over the last couple of years, AI models have generally become much better at solving very challenging math problems. This shows that AI is continuously advancing in its reasoning and problem-solving skills.\n",
    "\n",
    "**Closed-Source Models Leading the Way:** Models developed by companies that keep their technology proprietary (closed-source) currently tend to perform better on these advanced math tests and have shown a larger increase in their scores over time compared to open-source models.\n",
    "\n",
    "**Growing Differences in Performance:** As AI models get more advanced, the difference in how well various models perform on these difficult math problems is also increasing. This means that when choosing an AI for tasks like this, you need to be careful and select one that has a proven track record.\n",
    "\n",
    "**Open-Source Models Making Progress:** While currently behind the closed-source leaders, AI models whose technology is shared openly (open-source) are also improving their ability to solve complex math problems. "
   ]
  },
  {
   "cell_type": "markdown",
   "id": "d69da8cd-7abf-49c0-8757-6a747edfb57d",
   "metadata": {},
   "source": [
    "#### Distribution of Benchmark Scores"
   ]
  },
  {
   "cell_type": "code",
   "execution_count": 19,
   "id": "cb10dc96-34dc-43fe-b161-f6c6360f359d",
   "metadata": {},
   "outputs": [
    {
     "data": {
      "image/png": "[encoded data removed]",
      "text/plain": [
       "<Figure size 1000x600 with 1 Axes>"
      ]
     },
     "metadata": {},
     "output_type": "display_data"
    }
   ],
   "source": [
    "plt.figure(figsize=(10, 6))\n",
    "sns.histplot(mock_AIME['Benchmark Score'], bins=20, kde=True, color='#CBA052', alpha=0.6)\n",
    "plt.title('Distribution of Benchmark Scores on OTIS Mock AIME 2024-2025')\n",
    "plt.xlabel('Benchmark Score')\n",
    "plt.ylabel('Frequency')\n",
    "plt.tight_layout()\n",
    "plt.show()"
   ]
  },
  {
   "cell_type": "markdown",
   "id": "2f44698d-71f1-4ca0-9df9-8479967d929a",
   "metadata": {},
   "source": [
    "##### Summary of Findings:\n",
    "\n",
    "- **Wide Performance Variability:** The histogram clearly shows a significant spread in benchmark scores achieved by different AI models on the OTIS Mock AIME. This indicates a substantial difference in their ability to handle complex mathematical problems.\n",
    "\n",
    "- **Difficulty for Many Models:** A large number of models exhibit low scores, clustering near zero. This highlights the considerable challenge that advanced high school-level mathematics, as represented by the AIME, poses for a significant portion of the current AI landscape.\n",
    "\n",
    "- **Emergence of Performance Clusters:** The distribution suggests potential groupings of models based on their performance levels (low, mid, and high). This could be attributed to variations in model size, architecture, and training strategies, with some models being better equipped for complex reasoning tasks.\n",
    "\n",
    "- **Presence of High-Performing Outliers:** While many models struggle, a subset demonstrates a considerably higher level of proficiency on this demanding benchmark, indicating progress in AI's ability to tackle advanced mathematical problem-solving.\n",
    "\n",
    "- **Specialized Capability:** Strong performance on the OTIS Mock AIME is not yet a widely achieved capability across all AI models. The distribution suggests that excelling in this type of complex mathematical reasoning often requires specific architectural innovations, targeted training, or specialized design focused on logical and analytical skills.\n",
    "\n",
    "- **User Perspective:** For users seeking AI models with strong mathematical problem-solving abilities at this advanced level, it is crucial to carefully select models that have demonstrated high performance on benchmarks like the OTIS Mock AIME. The wide variability indicates that not all AI models are equally capable in this domain."
   ]
  },
  {
   "cell_type": "markdown",
   "id": "2bdcd300-86e2-414b-9361-d8031231966f",
   "metadata": {},
   "source": [
    "#### Benchmark Score vs. Organization"
   ]
  },
  {
   "cell_type": "code",
   "execution_count": 20,
   "id": "3baf4fd9-85f2-4047-810d-2b90eb5dcc25",
   "metadata": {},
   "outputs": [
    {
     "data": {
      "image/png": "[encoded data removed]",
      "text/plain": [
       "<Figure size 1200x800 with 1 Axes>"
      ]
     },
     "metadata": {},
     "output_type": "display_data"
    }
   ],
   "source": [
    "# Define organization categories and the desired order\n",
    "most_popular = ['OpenAI', 'Anthropic', 'Google', 'Meta AI']\n",
    "mid_popular = ['Alibaba', 'Mistral AI', 'DeepSeek', 'xAI']\n",
    "least_popular = ['Arcee AI', 'Microsoft', 'University of Washington']\n",
    "ordered_organizations = most_popular + mid_popular + least_popular\n",
    "\n",
    "# Create a new column to categorize organizations (optional, but helpful for color)\n",
    "def categorize_organization(org):\n",
    "    if org in most_popular:\n",
    "        return 'Most Popular'\n",
    "    elif org in mid_popular:\n",
    "        return 'Mid Popular'\n",
    "    elif org in least_popular:\n",
    "        return 'Least Popular'\n",
    "    else:\n",
    "        return 'Other'\n",
    "\n",
    "mock_AIME['Organization Category'] = mock_AIME['Organization'].apply(categorize_organization)\n",
    "\n",
    "# Convert 'Organization' column to a categorical type with the desired order\n",
    "mock_AIME['Organization'] = pd.Categorical(mock_AIME['Organization'], categories=ordered_organizations, ordered=True)\n",
    "\n",
    "# Define the color palette\n",
    "color_palette = {\n",
    "    'Most Popular': '#72111F',\n",
    "    'Mid Popular': '#CBA052',\n",
    "    'Least Popular': '#545658'\n",
    "}\n",
    "\n",
    "# Create the scatter plot\n",
    "plt.figure(figsize=(12, 8))\n",
    "sns.scatterplot(x='Benchmark Score', y='Organization', hue='Organization Category', data=mock_AIME, s=80, palette=color_palette, legend=False)\n",
    "\n",
    "# Add a vertical line at x = 0.6\n",
    "plt.axvline(x=0.6, color='red', linestyle='--', linewidth=1.5)\n",
    "\n",
    "# Add title and labels\n",
    "plt.title('OTIS Mock AIME 2024-2025 Performance: Benchmark Score vs. Organization (Ordered)')\n",
    "plt.xlabel('Benchmark Score')\n",
    "plt.ylabel('Organization')\n",
    "\n",
    "plt.tight_layout()\n",
    "plt.show()"
   ]
  },
  {
   "cell_type": "markdown",
   "id": "b0c4d209-97c9-4179-a2a5-7d00568c8c64",
   "metadata": {},
   "source": [
    "##### Summary of Findings:\n",
    "\n",
    "**Top Organizations:** OpenAI, Google, and xAI are producing some of the best-performing models for advanced math problem-solving\n",
    "\n",
    "**OpenAI's Lead:** OpenAI having 4 out of 6 models exceeding the 60% mark strongly indicates their current leading position in this specific, highly challenging domain. This suggests a dedicated focus or architectural advantage for their models in advanced mathematical reasoning.\n",
    "\n",
    "**Consider the Challenge:** This plot highlights that excelling at advanced mathematical problem-solving is very difficult for AI. Many models perform poorly, so it's important to have realistic expectations and choose models specifically evaluated on such challenging benchmarks.\n",
    "\n",
    "**Variability Within Organizations:** It's also important to note the internal variability within organizations. For example, OpenAI has models spanning a significant performance range, indicating that not all models from a leading organization are equally adept at this specific task.\n",
    "\n",
    "##### Side Note:\n",
    "**Emerging Competition:** The performance of models from xAI and DeepSeek indicates a growing competitive landscape. These \"mid-popular\" or emerging entities are demonstrating capabilities that can rival those of the established giants in specific challenging areas like advanced mathematics. This suggests rapid innovation and the potential for new breakthroughs from diverse research efforts.\n",
    "\n",
    "**Open-Source Landscape:** While open-source models (from organizations like Meta AI, Alibaba, and Mistral AI) generally show lower performance on this specific benchmark, DeepSeek stands out as a notable exception with scores approaching the higher end of the spectrum. This highlights the progress within the open-source community, although a performance gap currently exists compared to the leading proprietary models on this highly specialized task."
   ]
  },
  {
   "cell_type": "markdown",
   "id": "1cfdb534-e1b6-4b94-a1e0-f62190799804",
   "metadata": {},
   "source": [
    "#### Investigation on the Top Models"
   ]
  },
  {
   "cell_type": "code",
   "execution_count": 21,
   "id": "92525426-97f9-4c78-81f2-b1295aa60c3c",
   "metadata": {},
   "outputs": [
    {
     "data": {
      "image/png": "[encoded data removed]",
      "text/plain": [
       "<Figure size 1200x400 with 1 Axes>"
      ]
     },
     "metadata": {},
     "output_type": "display_data"
    }
   ],
   "source": [
    "# Filter for models with Benchmark Score > 0.6\n",
    "high_performing_models = mock_AIME[mock_AIME['Benchmark Score'] > 0.6]\n",
    "\n",
    "# Create the scatter plot\n",
    "plt.figure(figsize=(12, 4))\n",
    "plt.scatter(x='Benchmark Score', y='Organization', data=high_performing_models, s=80, color='#862633')\n",
    "\n",
    "# Add model names as text annotations with adjusted positions\n",
    "for index, row in high_performing_models.iterrows():\n",
    "    x_offset = 0.002  # Adjust horizontal offset as needed\n",
    "    y_offset = 0.0    # Adjust vertical offset as needed\n",
    "    plt.text(row['Benchmark Score'] + x_offset, row['Organization'], row['Model Name'], ha='left', va='center', fontsize=9)\n",
    "\n",
    "# Get unique categories in order of appearance\n",
    "organizations = high_performing_models['Organization'].unique()\n",
    "\n",
    "# Set y-ticks back to organization names\n",
    "plt.yticks(ticks=range(len(organizations)), labels=organizations)\n",
    "\n",
    "# Fix vertical spacing (adds margin above and below)\n",
    "plt.ylim(-0.5, len(organizations) - 0.5)\n",
    "\n",
    "# Add title and labels\n",
    "plt.title('OTIS Mock AIME 2024-2025 Performance: Models with Benchmark Score > 0.6')\n",
    "plt.xlabel('Benchmark Score')\n",
    "plt.ylabel('Organization')\n",
    "\n",
    "plt.tight_layout()\n",
    "plt.show()"
   ]
  },
  {
   "cell_type": "code",
   "execution_count": 22,
   "id": "1ba6f26a-d3a6-406a-8f8c-c4bd26f313ea",
   "metadata": {},
   "outputs": [
    {
     "name": "stdout",
     "output_type": "stream",
     "text": [
      "\n",
      "Top Performing Models:\n",
      "\n",
      "               Model Name  Benchmark Score Organization\n",
      "                       o3         0.838889       OpenAI\n",
      "                  o4-mini         0.816667       OpenAI\n",
      "              Grok-3 mini         0.777778          xAI\n",
      "                  o3-mini         0.769444       OpenAI\n",
      "                       o1         0.733333       OpenAI\n",
      "         Gemini 2.5 Flash         0.730556       Google\n",
      "Gemini 2.0 Flash Thinking         0.577778       Google\n",
      "        Claude 3.7 Sonnet         0.577778    Anthropic\n",
      "                   Grok-3         0.555556          xAI\n",
      "              DeepSeek-R1         0.533333     DeepSeek\n"
     ]
    }
   ],
   "source": [
    "# Sort the DataFrame by 'Benchmark Score' in descending order\n",
    "top_models = mock_AIME.sort_values(by='Benchmark Score', ascending=False)\n",
    "\n",
    "# Select the 'Model Name' and 'Benchmark Score' columns\n",
    "top_models_table = top_models[['Model Name', 'Benchmark Score', 'Organization']].head(10) # Adjust the number (10) as needed\n",
    "\n",
    "# Print the table\n",
    "print(\"\\nTop Performing Models:\\n\")\n",
    "print(top_models_table.to_string(index=False))"
   ]
  },
  {
   "cell_type": "markdown",
   "id": "7b855893-3d1c-4d93-bf70-a3794994c6e1",
   "metadata": {},
   "source": [
    "Note:\n",
    "- o3 - available for plus+ users\n",
    "- o4-mini - available for everyone\n",
    "- Grok-3 mini - available through API\n",
    "- **o3-mini - No Longer Available**\n",
    "- **o1 - No Longer Available**\n",
    "- Gemini 2.5 Flash - available for everyone\n",
    "- **Gemini 2.0 Flash Thinking - No Longer Available**\n",
    "- Claude 3.7 Sonnet - available for everyone (limited)\n",
    "- Grok-3 - available for everyone\n",
    "- DeepSeek-R1 - available through websites"
   ]
  },
  {
   "cell_type": "markdown",
   "id": "81f59b6f-b28e-48d3-965e-10a5cd5045f9",
   "metadata": {},
   "source": [
    "##### Summary of Findings\n",
    "\n",
    "**Best Performance (Paid Option):** OpenAI's o3 stands out as the top performer based on the benchmark score. However, it requires an OpenAI Plus+ subscription, which costs $20 per month. For users willing to pay this fee, o3 offers the highest demonstrated capability in advanced mathematical problem-solving according to this data.\n",
    "\n",
    "**Best Free Option (Still OpenAI):** OpenAI's o4-mini, which is available to everyone through ChatGPT, is a very strong contender. Despite a small performance decrease (around 2%) compared to o3, it provides high-level mathematical reasoning without a subscription cost. This makes ChatGPT with o4-mini an excellent option for general users seeking advanced math help without a paywall.\n",
    "\n",
    "**Strong Free Alternative (Google):** Google's Gemini 2.5 Flash, also available to everyone through Gemini, demonstrates competitive performance. It appears to be a viable free alternative to ChatGPT for users who prefer the Google ecosystem or want to explore different models.\n",
    "\n",
    "**Other Options (Anthropic and xAI):** Anthropic's Claude 3.7 Sonnet and xAI's Grok-3 are available to everyone, but their performance falls significantly (more than 25%)\n",
    "\n",
    "**API Access (Grok-3 mini, DeepSeek-R1):** Grok-3 mini and DeepSeek-R1 are available through APIs or websites. While this makes them accessible, it often implies a more technical setup and potentially costs associated with API usage, making them less straightforward for the general public compared to direct integration within a user-friendly interface like ChatGPT or Gemini.\n",
    "\n",
    "**Important Consideration for General Users:** It's worth noting that the highest-performing models from OpenAI (o3 and o4-mini) and Google (Gemini 2.5 Flash) are \"thinking models\" that require users to switch to a specific mode within the application. This might lead to a different conversational style compared to general-purpose models. In contrast, models like Claude 3.7 Sonnet and Grok-3 are general-purpose, offering a more seamless and consistent experience across various tasks, including reasoning. Therefore, users might face a trade-off between achieving the absolute highest performance on challenging math problems and the ease of use and consistent conversational style of general-purpose AI."
   ]
  },
  {
   "cell_type": "markdown",
   "id": "fbdceb38-da92-4dd7-9b29-82960f4feb5e",
   "metadata": {},
   "source": [
    "### Question: Do general purpose models from OpenAI and Google took this test?"
   ]
  },
  {
   "cell_type": "code",
   "execution_count": 23,
   "id": "f7d65e85-f63b-4ee9-80c7-c331882aec8d",
   "metadata": {},
   "outputs": [
    {
     "data": {
      "text/html": [
       "<div>\n",
       "<style scoped>\n",
       "    .dataframe tbody tr th:only-of-type {\n",
       "        vertical-align: middle;\n",
       "    }\n",
       "\n",
       "    .dataframe tbody tr th {\n",
       "        vertical-align: top;\n",
       "    }\n",
       "\n",
       "    .dataframe thead th {\n",
       "        text-align: right;\n",
       "    }\n",
       "</style>\n",
       "<table border=\"1\" class=\"dataframe\">\n",
       "  <thead>\n",
       "    <tr style=\"text-align: right;\">\n",
       "      <th></th>\n",
       "      <th>Model Name</th>\n",
       "      <th>Version Release Date</th>\n",
       "      <th>Benchmark</th>\n",
       "      <th>Benchmark Score</th>\n",
       "      <th>Organization</th>\n",
       "      <th>Country</th>\n",
       "      <th>Source Type</th>\n",
       "      <th>Organization Category</th>\n",
       "    </tr>\n",
       "  </thead>\n",
       "  <tbody>\n",
       "    <tr>\n",
       "      <th>11</th>\n",
       "      <td>GPT-4 Turbo</td>\n",
       "      <td>2024-04-09</td>\n",
       "      <td>OTIS Mock AIME 2024-2025</td>\n",
       "      <td>0.066667</td>\n",
       "      <td>OpenAI</td>\n",
       "      <td>United States of America</td>\n",
       "      <td>Closed-Source</td>\n",
       "      <td>Most Popular</td>\n",
       "    </tr>\n",
       "    <tr>\n",
       "      <th>12</th>\n",
       "      <td>GPT-4.1</td>\n",
       "      <td>2025-04-14</td>\n",
       "      <td>OTIS Mock AIME 2024-2025</td>\n",
       "      <td>0.383333</td>\n",
       "      <td>OpenAI</td>\n",
       "      <td>United States of America</td>\n",
       "      <td>Closed-Source</td>\n",
       "      <td>Most Popular</td>\n",
       "    </tr>\n",
       "    <tr>\n",
       "      <th>13</th>\n",
       "      <td>GPT-4.1 mini</td>\n",
       "      <td>2025-04-14</td>\n",
       "      <td>OTIS Mock AIME 2024-2025</td>\n",
       "      <td>0.447222</td>\n",
       "      <td>OpenAI</td>\n",
       "      <td>United States of America</td>\n",
       "      <td>Closed-Source</td>\n",
       "      <td>Most Popular</td>\n",
       "    </tr>\n",
       "    <tr>\n",
       "      <th>14</th>\n",
       "      <td>GPT-4.1 nano</td>\n",
       "      <td>2025-04-14</td>\n",
       "      <td>OTIS Mock AIME 2024-2025</td>\n",
       "      <td>0.288889</td>\n",
       "      <td>OpenAI</td>\n",
       "      <td>United States of America</td>\n",
       "      <td>Closed-Source</td>\n",
       "      <td>Most Popular</td>\n",
       "    </tr>\n",
       "    <tr>\n",
       "      <th>15</th>\n",
       "      <td>GPT-4.5</td>\n",
       "      <td>2025-02-27</td>\n",
       "      <td>OTIS Mock AIME 2024-2025</td>\n",
       "      <td>0.377778</td>\n",
       "      <td>OpenAI</td>\n",
       "      <td>United States of America</td>\n",
       "      <td>Closed-Source</td>\n",
       "      <td>Most Popular</td>\n",
       "    </tr>\n",
       "    <tr>\n",
       "      <th>16</th>\n",
       "      <td>GPT-4o</td>\n",
       "      <td>2024-11-20</td>\n",
       "      <td>OTIS Mock AIME 2024-2025</td>\n",
       "      <td>0.062500</td>\n",
       "      <td>OpenAI</td>\n",
       "      <td>United States of America</td>\n",
       "      <td>Closed-Source</td>\n",
       "      <td>Most Popular</td>\n",
       "    </tr>\n",
       "    <tr>\n",
       "      <th>52</th>\n",
       "      <td>o1</td>\n",
       "      <td>2024-12-17</td>\n",
       "      <td>OTIS Mock AIME 2024-2025</td>\n",
       "      <td>0.733333</td>\n",
       "      <td>OpenAI</td>\n",
       "      <td>United States of America</td>\n",
       "      <td>Closed-Source</td>\n",
       "      <td>Most Popular</td>\n",
       "    </tr>\n",
       "    <tr>\n",
       "      <th>53</th>\n",
       "      <td>o1-mini</td>\n",
       "      <td>2024-09-12</td>\n",
       "      <td>OTIS Mock AIME 2024-2025</td>\n",
       "      <td>0.469444</td>\n",
       "      <td>OpenAI</td>\n",
       "      <td>United States of America</td>\n",
       "      <td>Closed-Source</td>\n",
       "      <td>Most Popular</td>\n",
       "    </tr>\n",
       "    <tr>\n",
       "      <th>54</th>\n",
       "      <td>o1-preview</td>\n",
       "      <td>2024-09-12</td>\n",
       "      <td>OTIS Mock AIME 2024-2025</td>\n",
       "      <td>0.311111</td>\n",
       "      <td>OpenAI</td>\n",
       "      <td>United States of America</td>\n",
       "      <td>Closed-Source</td>\n",
       "      <td>Most Popular</td>\n",
       "    </tr>\n",
       "    <tr>\n",
       "      <th>55</th>\n",
       "      <td>o3</td>\n",
       "      <td>2025-04-16</td>\n",
       "      <td>OTIS Mock AIME 2024-2025</td>\n",
       "      <td>0.838889</td>\n",
       "      <td>OpenAI</td>\n",
       "      <td>United States of America</td>\n",
       "      <td>Closed-Source</td>\n",
       "      <td>Most Popular</td>\n",
       "    </tr>\n",
       "    <tr>\n",
       "      <th>56</th>\n",
       "      <td>o3-mini</td>\n",
       "      <td>2025-01-31</td>\n",
       "      <td>OTIS Mock AIME 2024-2025</td>\n",
       "      <td>0.769444</td>\n",
       "      <td>OpenAI</td>\n",
       "      <td>United States of America</td>\n",
       "      <td>Closed-Source</td>\n",
       "      <td>Most Popular</td>\n",
       "    </tr>\n",
       "    <tr>\n",
       "      <th>57</th>\n",
       "      <td>o4-mini</td>\n",
       "      <td>2025-04-16</td>\n",
       "      <td>OTIS Mock AIME 2024-2025</td>\n",
       "      <td>0.816667</td>\n",
       "      <td>OpenAI</td>\n",
       "      <td>United States of America</td>\n",
       "      <td>Closed-Source</td>\n",
       "      <td>Most Popular</td>\n",
       "    </tr>\n",
       "  </tbody>\n",
       "</table>\n",
       "</div>"
      ],
      "text/plain": [
       "      Model Name Version Release Date                 Benchmark  \\\n",
       "11   GPT-4 Turbo           2024-04-09  OTIS Mock AIME 2024-2025   \n",
       "12       GPT-4.1           2025-04-14  OTIS Mock AIME 2024-2025   \n",
       "13  GPT-4.1 mini           2025-04-14  OTIS Mock AIME 2024-2025   \n",
       "14  GPT-4.1 nano           2025-04-14  OTIS Mock AIME 2024-2025   \n",
       "15       GPT-4.5           2025-02-27  OTIS Mock AIME 2024-2025   \n",
       "16        GPT-4o           2024-11-20  OTIS Mock AIME 2024-2025   \n",
       "52            o1           2024-12-17  OTIS Mock AIME 2024-2025   \n",
       "53       o1-mini           2024-09-12  OTIS Mock AIME 2024-2025   \n",
       "54    o1-preview           2024-09-12  OTIS Mock AIME 2024-2025   \n",
       "55            o3           2025-04-16  OTIS Mock AIME 2024-2025   \n",
       "56       o3-mini           2025-01-31  OTIS Mock AIME 2024-2025   \n",
       "57       o4-mini           2025-04-16  OTIS Mock AIME 2024-2025   \n",
       "\n",
       "    Benchmark Score Organization                   Country    Source Type  \\\n",
       "11         0.066667       OpenAI  United States of America  Closed-Source   \n",
       "12         0.383333       OpenAI  United States of America  Closed-Source   \n",
       "13         0.447222       OpenAI  United States of America  Closed-Source   \n",
       "14         0.288889       OpenAI  United States of America  Closed-Source   \n",
       "15         0.377778       OpenAI  United States of America  Closed-Source   \n",
       "16         0.062500       OpenAI  United States of America  Closed-Source   \n",
       "52         0.733333       OpenAI  United States of America  Closed-Source   \n",
       "53         0.469444       OpenAI  United States of America  Closed-Source   \n",
       "54         0.311111       OpenAI  United States of America  Closed-Source   \n",
       "55         0.838889       OpenAI  United States of America  Closed-Source   \n",
       "56         0.769444       OpenAI  United States of America  Closed-Source   \n",
       "57         0.816667       OpenAI  United States of America  Closed-Source   \n",
       "\n",
       "   Organization Category  \n",
       "11          Most Popular  \n",
       "12          Most Popular  \n",
       "13          Most Popular  \n",
       "14          Most Popular  \n",
       "15          Most Popular  \n",
       "16          Most Popular  \n",
       "52          Most Popular  \n",
       "53          Most Popular  \n",
       "54          Most Popular  \n",
       "55          Most Popular  \n",
       "56          Most Popular  \n",
       "57          Most Popular  "
      ]
     },
     "execution_count": 23,
     "metadata": {},
     "output_type": "execute_result"
    }
   ],
   "source": [
    "mock_AIME[mock_AIME['Organization'] == 'OpenAI']"
   ]
  },
  {
   "cell_type": "code",
   "execution_count": 24,
   "id": "a4bfabfb-4f57-4f41-918d-961321fc516a",
   "metadata": {},
   "outputs": [
    {
     "data": {
      "text/html": [
       "<div>\n",
       "<style scoped>\n",
       "    .dataframe tbody tr th:only-of-type {\n",
       "        vertical-align: middle;\n",
       "    }\n",
       "\n",
       "    .dataframe tbody tr th {\n",
       "        vertical-align: top;\n",
       "    }\n",
       "\n",
       "    .dataframe thead th {\n",
       "        text-align: right;\n",
       "    }\n",
       "</style>\n",
       "<table border=\"1\" class=\"dataframe\">\n",
       "  <thead>\n",
       "    <tr style=\"text-align: right;\">\n",
       "      <th></th>\n",
       "      <th>Model Name</th>\n",
       "      <th>Version Release Date</th>\n",
       "      <th>Benchmark</th>\n",
       "      <th>Benchmark Score</th>\n",
       "      <th>Organization</th>\n",
       "      <th>Country</th>\n",
       "      <th>Source Type</th>\n",
       "      <th>Organization Category</th>\n",
       "    </tr>\n",
       "  </thead>\n",
       "  <tbody>\n",
       "    <tr>\n",
       "      <th>17</th>\n",
       "      <td>Gemini 1.0 Pro</td>\n",
       "      <td>2024-02-15</td>\n",
       "      <td>OTIS Mock AIME 2024-2025</td>\n",
       "      <td>0.011111</td>\n",
       "      <td>Google</td>\n",
       "      <td>United States of America</td>\n",
       "      <td>Closed-Source</td>\n",
       "      <td>Most Popular</td>\n",
       "    </tr>\n",
       "    <tr>\n",
       "      <th>18</th>\n",
       "      <td>Gemini 1.5 Flash</td>\n",
       "      <td>2024-09-24</td>\n",
       "      <td>OTIS Mock AIME 2024-2025</td>\n",
       "      <td>0.162500</td>\n",
       "      <td>Google</td>\n",
       "      <td>United States of America</td>\n",
       "      <td>Closed-Source</td>\n",
       "      <td>Most Popular</td>\n",
       "    </tr>\n",
       "    <tr>\n",
       "      <th>19</th>\n",
       "      <td>Gemini 1.5 Flash 8B</td>\n",
       "      <td>2024-10-03</td>\n",
       "      <td>OTIS Mock AIME 2024-2025</td>\n",
       "      <td>0.045833</td>\n",
       "      <td>Google</td>\n",
       "      <td>United States of America</td>\n",
       "      <td>Closed-Source</td>\n",
       "      <td>Most Popular</td>\n",
       "    </tr>\n",
       "    <tr>\n",
       "      <th>20</th>\n",
       "      <td>Gemini 1.5 Pro</td>\n",
       "      <td>2024-09-24</td>\n",
       "      <td>OTIS Mock AIME 2024-2025</td>\n",
       "      <td>0.230556</td>\n",
       "      <td>Google</td>\n",
       "      <td>United States of America</td>\n",
       "      <td>Closed-Source</td>\n",
       "      <td>Most Popular</td>\n",
       "    </tr>\n",
       "    <tr>\n",
       "      <th>21</th>\n",
       "      <td>Gemini 2.0 Flash</td>\n",
       "      <td>2025-02-05</td>\n",
       "      <td>OTIS Mock AIME 2024-2025</td>\n",
       "      <td>0.311111</td>\n",
       "      <td>Google</td>\n",
       "      <td>United States of America</td>\n",
       "      <td>Closed-Source</td>\n",
       "      <td>Most Popular</td>\n",
       "    </tr>\n",
       "    <tr>\n",
       "      <th>22</th>\n",
       "      <td>Gemini 2.0 Flash Thinking</td>\n",
       "      <td>2025-01-21</td>\n",
       "      <td>OTIS Mock AIME 2024-2025</td>\n",
       "      <td>0.577778</td>\n",
       "      <td>Google</td>\n",
       "      <td>United States of America</td>\n",
       "      <td>Closed-Source</td>\n",
       "      <td>Most Popular</td>\n",
       "    </tr>\n",
       "    <tr>\n",
       "      <th>23</th>\n",
       "      <td>Gemini 2.5 Flash</td>\n",
       "      <td>2025-04-17</td>\n",
       "      <td>OTIS Mock AIME 2024-2025</td>\n",
       "      <td>0.730556</td>\n",
       "      <td>Google</td>\n",
       "      <td>United States of America</td>\n",
       "      <td>Closed-Source</td>\n",
       "      <td>Most Popular</td>\n",
       "    </tr>\n",
       "    <tr>\n",
       "      <th>24</th>\n",
       "      <td>Gemma 2 27B</td>\n",
       "      <td>2024-06-24</td>\n",
       "      <td>OTIS Mock AIME 2024-2025</td>\n",
       "      <td>0.013889</td>\n",
       "      <td>Google</td>\n",
       "      <td>United States of America</td>\n",
       "      <td>Closed-Source</td>\n",
       "      <td>Most Popular</td>\n",
       "    </tr>\n",
       "    <tr>\n",
       "      <th>25</th>\n",
       "      <td>Gemma 2 9B</td>\n",
       "      <td>2024-06-24</td>\n",
       "      <td>OTIS Mock AIME 2024-2025</td>\n",
       "      <td>0.005556</td>\n",
       "      <td>Google</td>\n",
       "      <td>United States of America</td>\n",
       "      <td>Closed-Source</td>\n",
       "      <td>Most Popular</td>\n",
       "    </tr>\n",
       "    <tr>\n",
       "      <th>26</th>\n",
       "      <td>Gemma 3 27B</td>\n",
       "      <td>2025-03-12</td>\n",
       "      <td>OTIS Mock AIME 2024-2025</td>\n",
       "      <td>0.197222</td>\n",
       "      <td>Google</td>\n",
       "      <td>United States of America</td>\n",
       "      <td>Closed-Source</td>\n",
       "      <td>Most Popular</td>\n",
       "    </tr>\n",
       "  </tbody>\n",
       "</table>\n",
       "</div>"
      ],
      "text/plain": [
       "                   Model Name Version Release Date                 Benchmark  \\\n",
       "17             Gemini 1.0 Pro           2024-02-15  OTIS Mock AIME 2024-2025   \n",
       "18           Gemini 1.5 Flash           2024-09-24  OTIS Mock AIME 2024-2025   \n",
       "19        Gemini 1.5 Flash 8B           2024-10-03  OTIS Mock AIME 2024-2025   \n",
       "20             Gemini 1.5 Pro           2024-09-24  OTIS Mock AIME 2024-2025   \n",
       "21           Gemini 2.0 Flash           2025-02-05  OTIS Mock AIME 2024-2025   \n",
       "22  Gemini 2.0 Flash Thinking           2025-01-21  OTIS Mock AIME 2024-2025   \n",
       "23           Gemini 2.5 Flash           2025-04-17  OTIS Mock AIME 2024-2025   \n",
       "24                Gemma 2 27B           2024-06-24  OTIS Mock AIME 2024-2025   \n",
       "25                 Gemma 2 9B           2024-06-24  OTIS Mock AIME 2024-2025   \n",
       "26                Gemma 3 27B           2025-03-12  OTIS Mock AIME 2024-2025   \n",
       "\n",
       "    Benchmark Score Organization                   Country    Source Type  \\\n",
       "17         0.011111       Google  United States of America  Closed-Source   \n",
       "18         0.162500       Google  United States of America  Closed-Source   \n",
       "19         0.045833       Google  United States of America  Closed-Source   \n",
       "20         0.230556       Google  United States of America  Closed-Source   \n",
       "21         0.311111       Google  United States of America  Closed-Source   \n",
       "22         0.577778       Google  United States of America  Closed-Source   \n",
       "23         0.730556       Google  United States of America  Closed-Source   \n",
       "24         0.013889       Google  United States of America  Closed-Source   \n",
       "25         0.005556       Google  United States of America  Closed-Source   \n",
       "26         0.197222       Google  United States of America  Closed-Source   \n",
       "\n",
       "   Organization Category  \n",
       "17          Most Popular  \n",
       "18          Most Popular  \n",
       "19          Most Popular  \n",
       "20          Most Popular  \n",
       "21          Most Popular  \n",
       "22          Most Popular  \n",
       "23          Most Popular  \n",
       "24          Most Popular  \n",
       "25          Most Popular  \n",
       "26          Most Popular  "
      ]
     },
     "execution_count": 24,
     "metadata": {},
     "output_type": "execute_result"
    }
   ],
   "source": [
    "mock_AIME[mock_AIME['Organization'] == 'Google']"
   ]
  },
  {
   "cell_type": "markdown",
   "id": "8ad3998c-ecdd-419a-9c35-4197d0a0cda6",
   "metadata": {},
   "source": [
    "##### Summary of Findings\n",
    "\n",
    "They did (GPT-4o and Gemini 2.0 Flash are the most recent general-purpose models), but they did poorly on this test. \n",
    "- GPT-4o (0.062500)\n",
    "- Gemini 2.0 Flash (0.311111)\n",
    "- Grok-3 (0.555556)\n",
    "- Claude 3.7 Sonnet (0.577778)"
   ]
  }
 ],
 "metadata": {
  "kernelspec": {
   "display_name": "Python 3 (ipykernel)",
   "language": "python",
   "name": "python3"
  },
  "language_info": {
   "codemirror_mode": {
    "name": "ipython",
    "version": 3
   },
   "file_extension": ".py",
   "mimetype": "text/x-python",
   "name": "python",
   "nbconvert_exporter": "python",
   "pygments_lexer": "ipython3",
   "version": "3.12.7"
  }
 },
 "nbformat": 4,
 "nbformat_minor": 5
}
