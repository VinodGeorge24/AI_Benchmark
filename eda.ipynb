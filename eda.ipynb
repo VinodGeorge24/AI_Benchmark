{
 "cells": [
  {
   "cell_type": "markdown",
   "metadata": {},
   "source": [
    "# Data Preprocessing Notebook\n",
    "\n",
    "## Course: Data Visualization\n",
    "## Professor: Dr. Tweneboah\n",
    "## Author: Lucas Spitzer\n",
    "\n",
    "### Import Necessary Packages"
   ]
  },
  {
   "cell_type": "code",
   "execution_count": 1,
   "metadata": {},
   "outputs": [],
   "source": [
    "# Importing Pandas, Matplotlib, & Seaborb\n",
    "import pandas as pd\n",
    "import matplotlib.pyplot as plt\n",
    "import seaborn as sns"
   ]
  },
  {
   "cell_type": "markdown",
   "metadata": {},
   "source": [
    "### 1. Read the master CSV file into a dataframe."
   ]
  },
  {
   "cell_type": "code",
   "execution_count": 2,
   "metadata": {},
   "outputs": [],
   "source": [
    "# Load master dataframe\n",
    "df = pd.read_csv(\"data/master.csv\")"
   ]
  },
  {
   "cell_type": "markdown",
   "metadata": {},
   "source": [
    "### 2. Basic descriptions of the data."
   ]
  },
  {
   "cell_type": "code",
   "execution_count": 3,
   "metadata": {},
   "outputs": [
    {
     "name": "stdout",
     "output_type": "stream",
     "text": [
      "First 5 rows of the dataset:\n"
     ]
    },
    {
     "data": {
      "text/html": [
       "<div>\n",
       "<style scoped>\n",
       "    .dataframe tbody tr th:only-of-type {\n",
       "        vertical-align: middle;\n",
       "    }\n",
       "\n",
       "    .dataframe tbody tr th {\n",
       "        vertical-align: top;\n",
       "    }\n",
       "\n",
       "    .dataframe thead th {\n",
       "        text-align: right;\n",
       "    }\n",
       "</style>\n",
       "<table border=\"1\" class=\"dataframe\">\n",
       "  <thead>\n",
       "    <tr style=\"text-align: right;\">\n",
       "      <th></th>\n",
       "      <th>Model Name</th>\n",
       "      <th>Version Release Date</th>\n",
       "      <th>Benchmark</th>\n",
       "      <th>Benchmark Score</th>\n",
       "      <th>Organization</th>\n",
       "      <th>Country</th>\n",
       "    </tr>\n",
       "  </thead>\n",
       "  <tbody>\n",
       "    <tr>\n",
       "      <th>0</th>\n",
       "      <td>Claude 2</td>\n",
       "      <td>2023-07-11</td>\n",
       "      <td>GPQA diamond</td>\n",
       "      <td>0.346591</td>\n",
       "      <td>Anthropic</td>\n",
       "      <td>United States of America</td>\n",
       "    </tr>\n",
       "    <tr>\n",
       "      <th>1</th>\n",
       "      <td>Claude 2</td>\n",
       "      <td>2023-07-11</td>\n",
       "      <td>MATH level 5</td>\n",
       "      <td>0.117258</td>\n",
       "      <td>Anthropic</td>\n",
       "      <td>United States of America</td>\n",
       "    </tr>\n",
       "    <tr>\n",
       "      <th>2</th>\n",
       "      <td>Claude 2.1</td>\n",
       "      <td>2023-11-21</td>\n",
       "      <td>GPQA diamond</td>\n",
       "      <td>0.329545</td>\n",
       "      <td>Anthropic</td>\n",
       "      <td>United States of America</td>\n",
       "    </tr>\n",
       "    <tr>\n",
       "      <th>3</th>\n",
       "      <td>Claude 3.5 Sonnet</td>\n",
       "      <td>2024-06-20</td>\n",
       "      <td>GPQA diamond</td>\n",
       "      <td>0.540404</td>\n",
       "      <td>Anthropic</td>\n",
       "      <td>United States of America</td>\n",
       "    </tr>\n",
       "    <tr>\n",
       "      <th>4</th>\n",
       "      <td>Claude 3.5 Sonnet</td>\n",
       "      <td>2024-06-20</td>\n",
       "      <td>MATH level 5</td>\n",
       "      <td>0.516805</td>\n",
       "      <td>Anthropic</td>\n",
       "      <td>United States of America</td>\n",
       "    </tr>\n",
       "  </tbody>\n",
       "</table>\n",
       "</div>"
      ],
      "text/plain": [
       "          Model Name Version Release Date     Benchmark  Benchmark Score  \\\n",
       "0           Claude 2           2023-07-11  GPQA diamond         0.346591   \n",
       "1           Claude 2           2023-07-11  MATH level 5         0.117258   \n",
       "2         Claude 2.1           2023-11-21  GPQA diamond         0.329545   \n",
       "3  Claude 3.5 Sonnet           2024-06-20  GPQA diamond         0.540404   \n",
       "4  Claude 3.5 Sonnet           2024-06-20  MATH level 5         0.516805   \n",
       "\n",
       "  Organization                   Country  \n",
       "0    Anthropic  United States of America  \n",
       "1    Anthropic  United States of America  \n",
       "2    Anthropic  United States of America  \n",
       "3    Anthropic  United States of America  \n",
       "4    Anthropic  United States of America  "
      ]
     },
     "execution_count": 3,
     "metadata": {},
     "output_type": "execute_result"
    }
   ],
   "source": [
    "# Display dataframe appearance\n",
    "print(\"First 5 rows of the dataset:\")\n",
    "df.head()"
   ]
  },
  {
   "cell_type": "code",
   "execution_count": 4,
   "metadata": {},
   "outputs": [
    {
     "name": "stdout",
     "output_type": "stream",
     "text": [
      "Null values per column:\n"
     ]
    },
    {
     "data": {
      "text/plain": [
       "Model Name              0\n",
       "Version Release Date    0\n",
       "Benchmark               0\n",
       "Benchmark Score         0\n",
       "Organization            0\n",
       "Country                 0\n",
       "dtype: int64"
      ]
     },
     "execution_count": 4,
     "metadata": {},
     "output_type": "execute_result"
    }
   ],
   "source": [
    "# Check for null values\n",
    "print(\"Null values per column:\")\n",
    "df.isnull().sum()"
   ]
  },
  {
   "cell_type": "code",
   "execution_count": 5,
   "metadata": {},
   "outputs": [
    {
     "name": "stdout",
     "output_type": "stream",
     "text": [
      "DataFrame info:\n",
      "<class 'pandas.core.frame.DataFrame'>\n",
      "RangeIndex: 326 entries, 0 to 325\n",
      "Data columns (total 6 columns):\n",
      " #   Column                Non-Null Count  Dtype  \n",
      "---  ------                --------------  -----  \n",
      " 0   Model Name            326 non-null    object \n",
      " 1   Version Release Date  326 non-null    object \n",
      " 2   Benchmark             326 non-null    object \n",
      " 3   Benchmark Score       326 non-null    float64\n",
      " 4   Organization          326 non-null    object \n",
      " 5   Country               326 non-null    object \n",
      "dtypes: float64(1), object(5)\n",
      "memory usage: 15.4+ KB\n"
     ]
    }
   ],
   "source": [
    "# Display important information\n",
    "print(\"DataFrame info:\")\n",
    "df.info()"
   ]
  },
  {
   "cell_type": "code",
   "execution_count": 6,
   "metadata": {},
   "outputs": [
    {
     "name": "stdout",
     "output_type": "stream",
     "text": [
      "Descriptive stats for benchmark score:\n"
     ]
    },
    {
     "data": {
      "text/html": [
       "<div>\n",
       "<style scoped>\n",
       "    .dataframe tbody tr th:only-of-type {\n",
       "        vertical-align: middle;\n",
       "    }\n",
       "\n",
       "    .dataframe tbody tr th {\n",
       "        vertical-align: top;\n",
       "    }\n",
       "\n",
       "    .dataframe thead th {\n",
       "        text-align: right;\n",
       "    }\n",
       "</style>\n",
       "<table border=\"1\" class=\"dataframe\">\n",
       "  <thead>\n",
       "    <tr style=\"text-align: right;\">\n",
       "      <th></th>\n",
       "      <th>Benchmark Score</th>\n",
       "    </tr>\n",
       "  </thead>\n",
       "  <tbody>\n",
       "    <tr>\n",
       "      <th>count</th>\n",
       "      <td>326.000000</td>\n",
       "    </tr>\n",
       "    <tr>\n",
       "      <th>mean</th>\n",
       "      <td>0.347465</td>\n",
       "    </tr>\n",
       "    <tr>\n",
       "      <th>std</th>\n",
       "      <td>0.282026</td>\n",
       "    </tr>\n",
       "    <tr>\n",
       "      <th>min</th>\n",
       "      <td>0.000000</td>\n",
       "    </tr>\n",
       "    <tr>\n",
       "      <th>25%</th>\n",
       "      <td>0.069444</td>\n",
       "    </tr>\n",
       "    <tr>\n",
       "      <th>50%</th>\n",
       "      <td>0.324337</td>\n",
       "    </tr>\n",
       "    <tr>\n",
       "      <th>75%</th>\n",
       "      <td>0.549874</td>\n",
       "    </tr>\n",
       "    <tr>\n",
       "      <th>max</th>\n",
       "      <td>0.978285</td>\n",
       "    </tr>\n",
       "  </tbody>\n",
       "</table>\n",
       "</div>"
      ],
      "text/plain": [
       "       Benchmark Score\n",
       "count       326.000000\n",
       "mean          0.347465\n",
       "std           0.282026\n",
       "min           0.000000\n",
       "25%           0.069444\n",
       "50%           0.324337\n",
       "75%           0.549874\n",
       "max           0.978285"
      ]
     },
     "execution_count": 6,
     "metadata": {},
     "output_type": "execute_result"
    }
   ],
   "source": [
    "# Print quantitive column descriptive statistics\n",
    "print(\"Descriptive stats for benchmark score:\")\n",
    "df.describe()"
   ]
  },
  {
   "cell_type": "code",
   "execution_count": 7,
   "metadata": {},
   "outputs": [
    {
     "name": "stdout",
     "output_type": "stream",
     "text": [
      "Number of duplicate rows: 0\n"
     ]
    }
   ],
   "source": [
    "# Check for duplicates in the dataframe\n",
    "duplicates = df.duplicated().sum()\n",
    "print(f\"Number of duplicate rows: {duplicates}\")"
   ]
  },
  {
   "cell_type": "code",
   "execution_count": 8,
   "metadata": {},
   "outputs": [
    {
     "name": "stdout",
     "output_type": "stream",
     "text": [
      "Unique models: 81\n",
      "Unique organizations: 14\n",
      "Unique benchmarks: 6\n"
     ]
    }
   ],
   "source": [
    "# Print unique counts for models, organizations, and benchmarks\n",
    "print(f\"Unique models: {df['Model Name'].nunique()}\")\n",
    "print(f\"Unique organizations: {df['Organization'].nunique()}\")\n",
    "print(f\"Unique benchmarks: {df['Benchmark'].nunique()}\")"
   ]
  },
  {
   "cell_type": "code",
   "execution_count": 9,
   "metadata": {},
   "outputs": [
    {
     "name": "stdout",
     "output_type": "stream",
     "text": [
      "Data covers release dates from 2023-06-13 to 2025-04-17\n"
     ]
    }
   ],
   "source": [
    "# Print date range for model relase dates\n",
    "try:\n",
    "    df['Version Release Date'] = pd.to_datetime(df['Version Release Date'], errors='coerce')\n",
    "    date_min = df['Version Release Date'].min().date()\n",
    "    date_max = df['Version Release Date'].max().date()\n",
    "    print(f\"Data covers release dates from {date_min} to {date_max}\")\n",
    "except Exception:\n",
    "    print(\"Unable to parse Version Release Date as datetime.\")"
   ]
  },
  {
   "cell_type": "markdown",
   "metadata": {},
   "source": [
    "### 3. Analysis & visualization to identify key insights."
   ]
  },
  {
   "cell_type": "code",
   "execution_count": 10,
   "metadata": {},
   "outputs": [
    {
     "name": "stdout",
     "output_type": "stream",
     "text": [
      "Top 5 models by average benchmark score:\n",
      "Model Name\n",
      "Gemini 2.5 Pro                   0.838384\n",
      "DeepSeek-R1                      0.727006\n",
      "DeepSeek-R1-Distill-Qwen-14B     0.659097\n",
      "DeepSeek-R1-Distill-Llama-70B    0.656773\n",
      "QWQ-Plus                         0.654040\n",
      "Name: Benchmark Score, dtype: float64\n"
     ]
    }
   ],
   "source": [
    "# Top 5 models overall\n",
    "model_scores = df.groupby('Model Name')['Benchmark Score'].mean().sort_values(ascending=False)\n",
    "top5_models = model_scores.head(5)\n",
    "print(\"Top 5 models by average benchmark score:\")\n",
    "print(top5_models)"
   ]
  },
  {
   "cell_type": "code",
   "execution_count": 19,
   "metadata": {},
   "outputs": [
    {
     "name": "stderr",
     "output_type": "stream",
     "text": [
      "/var/folders/pb/36ss_pfd11n9x0ppvvv71rr80000gn/T/ipykernel_92661/1130604623.py:3: FutureWarning: \n",
      "\n",
      "Passing `palette` without assigning `hue` is deprecated and will be removed in v0.14.0. Assign the `y` variable to `hue` and set `legend=False` for the same effect.\n",
      "\n",
      "  sns.barplot(x=top5_models.values, y=top5_models.index, palette=[\"#862633\", \"#CBA052\", \"#C41E1E\", \"#545658\", \"#D7D2CB\"])\n"
     ]
    },
    {
     "data": {
      "image/png": "[encoded data removed]",
      "text/plain": [
       "<Figure size 1000x600 with 1 Axes>"
      ]
     },
     "metadata": {},
     "output_type": "display_data"
    }
   ],
   "source": [
    "# Plot top 5 models\n",
    "plt.figure(figsize=(10, 6))\n",
    "sns.barplot(x=top5_models.values, y=top5_models.index, palette=[\"#862633\", \"#CBA052\", \"#C41E1E\", \"#545658\", \"#D7D2CB\"])\n",
    "plt.title('Top 5 Models by Average Benchmark Score')\n",
    "plt.xlabel('Average Benchmark Score')\n",
    "plt.ylabel('Model Name')\n",
    "plt.show()"
   ]
  },
  {
   "cell_type": "code",
   "execution_count": 16,
   "metadata": {},
   "outputs": [
    {
     "name": "stdout",
     "output_type": "stream",
     "text": [
      "Top 5 organizations by average benchmark score (since 2024-01-01):\n",
      "Organization\n",
      "DeepSeek     0.541772\n",
      "xAI          0.423101\n",
      "OpenAI       0.421398\n",
      "Alibaba      0.368389\n",
      "Microsoft    0.359790\n",
      "Name: Benchmark Score, dtype: float64 \n",
      "\n"
     ]
    }
   ],
   "source": [
    "# Top 5 organizations by average benchmark score since the start of 2024\n",
    "df_since_2024 = df[df['Version Release Date'] >= pd.to_datetime('2024-01-01')]\n",
    "org_scores = df_since_2024.groupby('Organization')['Benchmark Score'].mean().sort_values(ascending=False)\n",
    "top5_orgs = org_scores.head(5)\n",
    "print(\"Top 5 organizations by average benchmark score (since 2024-01-01):\")\n",
    "print(top5_orgs, \"\\n\")"
   ]
  },
  {
   "cell_type": "code",
   "execution_count": 20,
   "metadata": {},
   "outputs": [
    {
     "name": "stderr",
     "output_type": "stream",
     "text": [
      "/var/folders/pb/36ss_pfd11n9x0ppvvv71rr80000gn/T/ipykernel_92661/2181863586.py:3: FutureWarning: \n",
      "\n",
      "Passing `palette` without assigning `hue` is deprecated and will be removed in v0.14.0. Assign the `y` variable to `hue` and set `legend=False` for the same effect.\n",
      "\n",
      "  sns.barplot(x=top5_orgs.values, y=top5_orgs.index, palette=[\"#862633\", \"#CBA052\", \"#C41E1E\", \"#545658\", \"#D7D2CB\"])\n"
     ]
    },
    {
     "data": {
      "image/png": "[encoded data removed]",
      "text/plain": [
       "<Figure size 1000x600 with 1 Axes>"
      ]
     },
     "metadata": {},
     "output_type": "display_data"
    }
   ],
   "source": [
    "# Plot top 5 organizations\n",
    "plt.figure(figsize=(10, 6))\n",
    "sns.barplot(x=top5_orgs.values, y=top5_orgs.index, palette=[\"#862633\", \"#CBA052\", \"#C41E1E\", \"#545658\", \"#D7D2CB\"])\n",
    "plt.title('Top 5 Organizations by Average Benchmark Score')\n",
    "plt.xlabel('Average Benchmark Score')\n",
    "plt.ylabel('Organization')\n",
    "plt.show()"
   ]
  },
  {
   "cell_type": "code",
   "execution_count": 24,
   "metadata": {},
   "outputs": [
    {
     "data": {
      "text/plain": [
       "<matplotlib.legend.Legend at 0x10c03fd90>"
      ]
     },
     "execution_count": 24,
     "metadata": {},
     "output_type": "execute_result"
    },
    {
     "data": {
      "image/png": "[encoded data removed]",
      "text/plain": [
       "<Figure size 800x600 with 1 Axes>"
      ]
     },
     "metadata": {},
     "output_type": "display_data"
    }
   ],
   "source": [
    "# Distribution of benchmark scores with custom colors\n",
    "plt.figure(figsize=(8, 6))\n",
    "sns.histplot(df['Benchmark Score'], bins=30, color=\"#CBA052\", kde=True)\n",
    "# Draw average line\n",
    "mean_score = df['Benchmark Score'].mean()\n",
    "plt.axvline(mean_score, color=\"#862633\", linestyle=\"--\", linewidth=2, label=f\"Mean = {mean_score:.3f}\")\n",
    "plt.legend()"
   ]
  }
 ],
 "metadata": {
  "kernelspec": {
   "display_name": ".venv",
   "language": "python",
   "name": "python3"
  },
  "language_info": {
   "codemirror_mode": {
    "name": "ipython",
    "version": 3
   },
   "file_extension": ".py",
   "mimetype": "text/x-python",
   "name": "python",
   "nbconvert_exporter": "python",
   "pygments_lexer": "ipython3",
   "version": "3.13.1"
  }
 },
 "nbformat": 4,
 "nbformat_minor": 2
}
