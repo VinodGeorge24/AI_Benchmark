{
 "cells": [
  {
   "cell_type": "markdown",
   "metadata": {},
   "source": [
    "# Data Preprocessing Notebook\n",
    "\n",
    "## Course: Data Visualization\n",
    "## Professor: Dr. Tweneboah\n",
    "## Author: Lucas Spitzer\n",
    "\n",
    "### Import Necessary Package(s)"
   ]
  },
  {
   "cell_type": "code",
   "execution_count": 1,
   "metadata": {},
   "outputs": [],
   "source": [
    "# Importing Pandas\n",
    "import pandas as pd"
   ]
  },
  {
   "cell_type": "markdown",
   "metadata": {},
   "source": [
    "### 1. Read the two CSV files into dataframes."
   ]
  },
  {
   "cell_type": "code",
   "execution_count": 2,
   "metadata": {},
   "outputs": [],
   "source": [
    "# Saving CSVs as dataframes\n",
    "runs = pd.read_csv(\"data/benchmarks_runs.csv\") \n",
    "versions = pd.read_csv(\"data/model_versions.csv\")  "
   ]
  },
  {
   "cell_type": "markdown",
   "metadata": {},
   "source": [
    "### 2. Join runs on versions (runs.model == versions.id)."
   ]
  },
  {
   "cell_type": "code",
   "execution_count": 3,
   "metadata": {},
   "outputs": [],
   "source": [
    "# Create dataframe \n",
    "df = runs.merge(\n",
    "    versions[[\"id\", \"Model\", \"Version release date\"]],\n",
    "    left_on=\"model\",\n",
    "    right_on=\"id\",\n",
    "    how=\"left\"\n",
    ").rename(columns={\n",
    "    \"Model\": \"model_display_name\"\n",
    "})"
   ]
  },
  {
   "cell_type": "markdown",
   "metadata": {},
   "source": [
    "### 3. Select and rename the relevant fields."
   ]
  },
  {
   "cell_type": "code",
   "execution_count": 4,
   "metadata": {},
   "outputs": [],
   "source": [
    "# Create the master dataframe from the merged result and rename columns.\n",
    "master_df = df[[\n",
    "    \"model\",\n",
    "    \"model_display_name\",\n",
    "    \"Version release date\",\n",
    "    \"task\",\n",
    "    \"Best score (across scorers)\"\n",
    "]].rename(columns={\n",
    "    \"model_display_name\": \"Model Name\",\n",
    "    \"Version release date\": \"Version Release Date\",\n",
    "    \"task\": \"Benchmark\",\n",
    "    \"Best score (across scorers)\": \"Benchmark Score\"\n",
    "})"
   ]
  },
  {
   "cell_type": "markdown",
   "metadata": {},
   "source": [
    "### 4. Map each model name substring to its corresponding organization."
   ]
  },
  {
   "cell_type": "code",
   "execution_count": 5,
   "metadata": {},
   "outputs": [],
   "source": [
    "# manually define mapping keyword structure to be utilized later\n",
    "substr_to_org = {\n",
    "    \"DeepSeek\": \"DeepSeek\",\n",
    "    \"Hermes\": \"Arcee AI\",\n",
    "    \"Claude\": \"Anthropic\",\n",
    "    \"GPT-3\": \"OpenAI\",\n",
    "    \"GPT-4\": \"OpenAI\",\n",
    "    \"o1\": \"OpenAI\",\n",
    "    \"o3\": \"OpenAI\",\n",
    "    \"o4\": \"OpenAI\",\n",
    "    \"Gemini\": \"Google\",\n",
    "    \"Llama\": \"Meta AI\",\n",
    "    \"grok\": \"xAI\",\n",
    "    \"Qwen\": \"Alibaba\",\n",
    "    \"qwq\": \"Alibaba\",\n",
    "    \"Mistral\": \"Mistral AI\",\n",
    "    \"Ministral\": \"Mistral AI\",\n",
    "    \"Mixtral\": \"Mistral AI\",\n",
    "    \"Gemma\": \"Google\",\n",
    "    \"WizardLM\": \"01.AI\",\n",
    "    \"Yi\": \"01.AI\",\n",
    "    \"DBRX\": \"Databricks\",\n",
    "    \"Phi\": \"Microsoft\",\n",
    "    \"Eurus\": \"CUHK Shenzhen Research Institute\",\n",
    "    \"Tulu\": \"University of Washington\",\n",
    "}\n",
    "\n",
    "# Define mapping function\n",
    "def map_org(model_name):\n",
    "    # if model_name is missing or not text, skip\n",
    "    if not isinstance(model_name, str):\n",
    "        return \"\"\n",
    "    lower_name = model_name.lower()\n",
    "    for sub, org in substr_to_org.items():\n",
    "        if sub.lower() in lower_name:\n",
    "            return org\n",
    "    return \"\"\n",
    "\n",
    "# Applying the fucntion to the master dataframe\n",
    "master_df[\"Organization\"] = master_df[\"Model Name\"].apply(map_org)"
   ]
  },
  {
   "cell_type": "markdown",
   "metadata": {},
   "source": [
    "### 5. Drop the deprecated model name column."
   ]
  },
  {
   "cell_type": "code",
   "execution_count": 6,
   "metadata": {},
   "outputs": [],
   "source": [
    "# Drop the irrelevent column from the dataframe\n",
    "master_df = master_df.drop(columns=[\"model\"])"
   ]
  },
  {
   "cell_type": "markdown",
   "metadata": {},
   "source": [
    "### 6. Add each organization's country by joining on the organization name."
   ]
  },
  {
   "cell_type": "code",
   "execution_count": 7,
   "metadata": {},
   "outputs": [],
   "source": [
    "# Load organization dataframe and join on orgnization name\n",
    "org_df = pd.read_csv(\"data/organizations.csv\")[['Organization','Country']]\n",
    "master_df = master_df.merge(org_df, on='Organization', how='left')"
   ]
  },
  {
   "cell_type": "markdown",
   "metadata": {},
   "source": [
    "### 7. Remove duplicate observations from the dataframe."
   ]
  },
  {
   "cell_type": "code",
   "execution_count": 8,
   "metadata": {},
   "outputs": [],
   "source": [
    "# Drop duplicates but keep the first occurrence\n",
    "master_df = master_df.drop_duplicates()"
   ]
  },
  {
   "cell_type": "markdown",
   "metadata": {},
   "source": [
    "### 8. Write out the requested columns to a CSV file."
   ]
  },
  {
   "cell_type": "code",
   "execution_count": 9,
   "metadata": {},
   "outputs": [],
   "source": [
    "# Write the dataframe to a master.csv to be utilized throughout the repository.\n",
    "master_df.to_csv(\"data/master.csv\", index=False)"
   ]
  }
 ],
 "metadata": {
  "kernelspec": {
   "display_name": ".venv",
   "language": "python",
   "name": "python3"
  },
  "language_info": {
   "codemirror_mode": {
    "name": "ipython",
    "version": 3
   },
   "file_extension": ".py",
   "mimetype": "text/x-python",
   "name": "python",
   "nbconvert_exporter": "python",
   "pygments_lexer": "ipython3",
   "version": "3.13.1"
  }
 },
 "nbformat": 4,
 "nbformat_minor": 2
}
