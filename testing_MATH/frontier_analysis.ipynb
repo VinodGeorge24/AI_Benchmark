{
 "cells": [
  {
   "cell_type": "markdown",
   "id": "aeedbe19",
   "metadata": {},
   "source": [
    "# Which AI is the best at (Frontier)Math?\n",
    "\n",
    "## Course: Data Visualization\n",
    "## Professor: Dr. Tweneboah\n",
    "## Author: Vinod George"
   ]
  },
  {
   "cell_type": "markdown",
   "id": "1b20a436",
   "metadata": {},
   "source": [
    "The goal of this notebook is to explore which AI models perform best on two of the most rigorous AI math benchmarks:\n",
    "- `FrontierMath-2025-02-28-Public`\n",
    "- `FrontierMath-2025-02-28-Private`\n",
    "\n",
    "We rank top models based on average performance across both and visualize the results using best practices in data visualization.\n",
    "\n"
   ]
  },
  {
   "cell_type": "markdown",
   "id": "c3059d90",
   "metadata": {},
   "source": [
    "Before any analysis, we must be aware of WHO we are speaking to.\n",
    "\n",
    "The usage of AI can be tailored to a specific niche, but in reality anyone can benefit from using AI. \n",
    "\n",
    "For people that may need it for mathmatical help, may it be accountants, teachers, or students\n",
    "\n",
    "However, **we will tailor this \"story\" to the general public!**"
   ]
  },
  {
   "cell_type": "markdown",
   "id": "82c1342f",
   "metadata": {},
   "source": [
    "### let's start by importing the necessary libraries"
   ]
  },
  {
   "cell_type": "code",
   "execution_count": 68,
   "id": "8732f65d",
   "metadata": {},
   "outputs": [],
   "source": [
    "import pandas as pd\n",
    "import seaborn as sns\n",
    "import matplotlib.pyplot as plt\n",
    "\n",
    "sns.set(style=\"whitegrid\")  # set the style to whitegrid for better visibility\n",
    "plt.rcParams['axes.spines.top'] = False  # remove top border\n",
    "plt.rcParams['axes.spines.right'] = False  # remove right border\n",
    "plt.rcParams['axes.grid'] = False  # remove gridlines unless we decide to turn them on"
   ]
  },
  {
   "cell_type": "markdown",
   "id": "a7b8a83f",
   "metadata": {},
   "source": [
    "what is the bottom portion of the code? What does it do?\n",
    "\n",
    "well, based on our guideline on how not to declutter our visualizations and some research, these additions will prove beneficial based on what we have been taught in class! "
   ]
  },
  {
   "cell_type": "markdown",
   "id": "25222a32",
   "metadata": {},
   "source": [
    "### Load Cleaned Dataset\n",
    "\n",
    "We use the `master.csv` created during the preprocessing step. It contains all benchmark results merged with metadata like model name, organization, release date, and country.\n"
   ]
  },
  {
   "cell_type": "code",
   "execution_count": 69,
   "id": "1b40372d",
   "metadata": {},
   "outputs": [
    {
     "name": "stdout",
     "output_type": "stream",
     "text": [
      "Shape: (326, 6)\n"
     ]
    },
    {
     "data": {
      "text/html": [
       "<div>\n",
       "<style scoped>\n",
       "    .dataframe tbody tr th:only-of-type {\n",
       "        vertical-align: middle;\n",
       "    }\n",
       "\n",
       "    .dataframe tbody tr th {\n",
       "        vertical-align: top;\n",
       "    }\n",
       "\n",
       "    .dataframe thead th {\n",
       "        text-align: right;\n",
       "    }\n",
       "</style>\n",
       "<table border=\"1\" class=\"dataframe\">\n",
       "  <thead>\n",
       "    <tr style=\"text-align: right;\">\n",
       "      <th></th>\n",
       "      <th>Model Name</th>\n",
       "      <th>Version Release Date</th>\n",
       "      <th>Benchmark</th>\n",
       "      <th>Benchmark Score</th>\n",
       "      <th>Organization</th>\n",
       "      <th>Country</th>\n",
       "    </tr>\n",
       "  </thead>\n",
       "  <tbody>\n",
       "    <tr>\n",
       "      <th>0</th>\n",
       "      <td>Claude 2</td>\n",
       "      <td>2023-07-11</td>\n",
       "      <td>GPQA diamond</td>\n",
       "      <td>0.346591</td>\n",
       "      <td>Anthropic</td>\n",
       "      <td>United States of America</td>\n",
       "    </tr>\n",
       "    <tr>\n",
       "      <th>1</th>\n",
       "      <td>Claude 2</td>\n",
       "      <td>2023-07-11</td>\n",
       "      <td>MATH level 5</td>\n",
       "      <td>0.117258</td>\n",
       "      <td>Anthropic</td>\n",
       "      <td>United States of America</td>\n",
       "    </tr>\n",
       "    <tr>\n",
       "      <th>2</th>\n",
       "      <td>Claude 2.1</td>\n",
       "      <td>2023-11-21</td>\n",
       "      <td>GPQA diamond</td>\n",
       "      <td>0.329545</td>\n",
       "      <td>Anthropic</td>\n",
       "      <td>United States of America</td>\n",
       "    </tr>\n",
       "    <tr>\n",
       "      <th>3</th>\n",
       "      <td>Claude 3.5 Sonnet</td>\n",
       "      <td>2024-06-20</td>\n",
       "      <td>GPQA diamond</td>\n",
       "      <td>0.540404</td>\n",
       "      <td>Anthropic</td>\n",
       "      <td>United States of America</td>\n",
       "    </tr>\n",
       "    <tr>\n",
       "      <th>4</th>\n",
       "      <td>Claude 3.5 Sonnet</td>\n",
       "      <td>2024-06-20</td>\n",
       "      <td>MATH level 5</td>\n",
       "      <td>0.516805</td>\n",
       "      <td>Anthropic</td>\n",
       "      <td>United States of America</td>\n",
       "    </tr>\n",
       "  </tbody>\n",
       "</table>\n",
       "</div>"
      ],
      "text/plain": [
       "          Model Name Version Release Date     Benchmark  Benchmark Score  \\\n",
       "0           Claude 2           2023-07-11  GPQA diamond         0.346591   \n",
       "1           Claude 2           2023-07-11  MATH level 5         0.117258   \n",
       "2         Claude 2.1           2023-11-21  GPQA diamond         0.329545   \n",
       "3  Claude 3.5 Sonnet           2024-06-20  GPQA diamond         0.540404   \n",
       "4  Claude 3.5 Sonnet           2024-06-20  MATH level 5         0.516805   \n",
       "\n",
       "  Organization                   Country  \n",
       "0    Anthropic  United States of America  \n",
       "1    Anthropic  United States of America  \n",
       "2    Anthropic  United States of America  \n",
       "3    Anthropic  United States of America  \n",
       "4    Anthropic  United States of America  "
      ]
     },
     "execution_count": 69,
     "metadata": {},
     "output_type": "execute_result"
    }
   ],
   "source": [
    "df = pd.read_csv(\"../data/master.csv\")\n",
    "\n",
    "print(\"Shape:\", df.shape)\n",
    "df.head()\n"
   ]
  },
  {
   "cell_type": "markdown",
   "id": "3b114b98",
   "metadata": {},
   "source": [
    "we have loaded it, so next would be to \n",
    "\n",
    "### Filter to Relevant Math Benchmarks\n",
    "\n",
    "We're focusing on the **FrontierMath** aspect of benchmarks. These were chosen for their difficulty and real-world application in high-level math evaluation.\n"
   ]
  },
  {
   "cell_type": "markdown",
   "id": "54c3b84a",
   "metadata": {},
   "source": [
    "So, let's filter the data and ensure it includes only what we need"
   ]
  },
  {
   "cell_type": "code",
   "execution_count": 70,
   "id": "9dde0669",
   "metadata": {},
   "outputs": [
    {
     "name": "stdout",
     "output_type": "stream",
     "text": [
      "Filtered benchmark entries: 60\n"
     ]
    },
    {
     "data": {
      "text/html": [
       "<div>\n",
       "<style scoped>\n",
       "    .dataframe tbody tr th:only-of-type {\n",
       "        vertical-align: middle;\n",
       "    }\n",
       "\n",
       "    .dataframe tbody tr th {\n",
       "        vertical-align: top;\n",
       "    }\n",
       "\n",
       "    .dataframe thead th {\n",
       "        text-align: right;\n",
       "    }\n",
       "</style>\n",
       "<table border=\"1\" class=\"dataframe\">\n",
       "  <thead>\n",
       "    <tr style=\"text-align: right;\">\n",
       "      <th></th>\n",
       "      <th>Model Name</th>\n",
       "      <th>Version Release Date</th>\n",
       "      <th>Benchmark</th>\n",
       "      <th>Benchmark Score</th>\n",
       "      <th>Organization</th>\n",
       "      <th>Country</th>\n",
       "    </tr>\n",
       "  </thead>\n",
       "  <tbody>\n",
       "    <tr>\n",
       "      <th>185</th>\n",
       "      <td>o3-mini</td>\n",
       "      <td>2025-01-31</td>\n",
       "      <td>FrontierMath-2025-02-28-Public</td>\n",
       "      <td>0.400000</td>\n",
       "      <td>OpenAI</td>\n",
       "      <td>United States of America</td>\n",
       "    </tr>\n",
       "    <tr>\n",
       "      <th>186</th>\n",
       "      <td>o3-mini</td>\n",
       "      <td>2025-01-31</td>\n",
       "      <td>FrontierMath-2025-02-28-Private</td>\n",
       "      <td>0.110345</td>\n",
       "      <td>OpenAI</td>\n",
       "      <td>United States of America</td>\n",
       "    </tr>\n",
       "    <tr>\n",
       "      <th>187</th>\n",
       "      <td>Grok-2</td>\n",
       "      <td>2024-12-12</td>\n",
       "      <td>FrontierMath-2025-02-28-Public</td>\n",
       "      <td>0.000000</td>\n",
       "      <td>xAI</td>\n",
       "      <td>United States of America</td>\n",
       "    </tr>\n",
       "    <tr>\n",
       "      <th>188</th>\n",
       "      <td>Grok-2</td>\n",
       "      <td>2024-12-12</td>\n",
       "      <td>FrontierMath-2025-02-28-Private</td>\n",
       "      <td>0.006897</td>\n",
       "      <td>xAI</td>\n",
       "      <td>United States of America</td>\n",
       "    </tr>\n",
       "    <tr>\n",
       "      <th>189</th>\n",
       "      <td>o3-mini</td>\n",
       "      <td>2025-01-31</td>\n",
       "      <td>FrontierMath-2025-02-28-Public</td>\n",
       "      <td>0.112500</td>\n",
       "      <td>OpenAI</td>\n",
       "      <td>United States of America</td>\n",
       "    </tr>\n",
       "  </tbody>\n",
       "</table>\n",
       "</div>"
      ],
      "text/plain": [
       "    Model Name Version Release Date                        Benchmark  \\\n",
       "185    o3-mini           2025-01-31   FrontierMath-2025-02-28-Public   \n",
       "186    o3-mini           2025-01-31  FrontierMath-2025-02-28-Private   \n",
       "187     Grok-2           2024-12-12   FrontierMath-2025-02-28-Public   \n",
       "188     Grok-2           2024-12-12  FrontierMath-2025-02-28-Private   \n",
       "189    o3-mini           2025-01-31   FrontierMath-2025-02-28-Public   \n",
       "\n",
       "     Benchmark Score Organization                   Country  \n",
       "185         0.400000       OpenAI  United States of America  \n",
       "186         0.110345       OpenAI  United States of America  \n",
       "187         0.000000          xAI  United States of America  \n",
       "188         0.006897          xAI  United States of America  \n",
       "189         0.112500       OpenAI  United States of America  "
      ]
     },
     "execution_count": 70,
     "metadata": {},
     "output_type": "execute_result"
    }
   ],
   "source": [
    "frontier_df = df[\n",
    "    df[\"Benchmark\"].isin([\n",
    "        \"FrontierMath-2025-02-28-Public\",\n",
    "        \"FrontierMath-2025-02-28-Private\"\n",
    "    ])\n",
    "]\n",
    "\n",
    "print(\"Filtered benchmark entries:\", len(frontier_df))\n",
    "frontier_df.head()\n"
   ]
  },
  {
   "cell_type": "markdown",
   "id": "ba1cf738",
   "metadata": {},
   "source": [
    "Now, to calculate the BEST, we of course would need the **highest score** on average, it makes sense.\n",
    "\n",
    "More specifically, \n",
    "\n",
    "## Compute Average Score Per Model\n",
    "\n",
    "We group by each model and its organization, then calculate the **mean score** across both FrontierMath benchmarks. This lets us rank models based on overall math performance.\n",
    "\n",
    "so let's group by model and organization to calculate the average benchmark score\n"
   ]
  },
  {
   "cell_type": "code",
   "execution_count": 71,
   "id": "2f0b7f0b",
   "metadata": {},
   "outputs": [
    {
     "data": {
      "text/html": [
       "<div>\n",
       "<style scoped>\n",
       "    .dataframe tbody tr th:only-of-type {\n",
       "        vertical-align: middle;\n",
       "    }\n",
       "\n",
       "    .dataframe tbody tr th {\n",
       "        vertical-align: top;\n",
       "    }\n",
       "\n",
       "    .dataframe thead th {\n",
       "        text-align: right;\n",
       "    }\n",
       "</style>\n",
       "<table border=\"1\" class=\"dataframe\">\n",
       "  <thead>\n",
       "    <tr style=\"text-align: right;\">\n",
       "      <th></th>\n",
       "      <th>Model Name</th>\n",
       "      <th>Organization</th>\n",
       "      <th>Benchmark Score</th>\n",
       "    </tr>\n",
       "  </thead>\n",
       "  <tbody>\n",
       "    <tr>\n",
       "      <th>22</th>\n",
       "      <td>o4-mini</td>\n",
       "      <td>OpenAI</td>\n",
       "      <td>0.192414</td>\n",
       "    </tr>\n",
       "    <tr>\n",
       "      <th>21</th>\n",
       "      <td>o3-mini</td>\n",
       "      <td>OpenAI</td>\n",
       "      <td>0.175916</td>\n",
       "    </tr>\n",
       "    <tr>\n",
       "      <th>20</th>\n",
       "      <td>o3</td>\n",
       "      <td>OpenAI</td>\n",
       "      <td>0.075862</td>\n",
       "    </tr>\n",
       "    <tr>\n",
       "      <th>5</th>\n",
       "      <td>GPT-4.1 mini</td>\n",
       "      <td>OpenAI</td>\n",
       "      <td>0.072414</td>\n",
       "    </tr>\n",
       "    <tr>\n",
       "      <th>18</th>\n",
       "      <td>o1</td>\n",
       "      <td>OpenAI</td>\n",
       "      <td>0.046552</td>\n",
       "    </tr>\n",
       "  </tbody>\n",
       "</table>\n",
       "</div>"
      ],
      "text/plain": [
       "      Model Name Organization  Benchmark Score\n",
       "22       o4-mini       OpenAI         0.192414\n",
       "21       o3-mini       OpenAI         0.175916\n",
       "20            o3       OpenAI         0.075862\n",
       "5   GPT-4.1 mini       OpenAI         0.072414\n",
       "18            o1       OpenAI         0.046552"
      ]
     },
     "execution_count": 71,
     "metadata": {},
     "output_type": "execute_result"
    }
   ],
   "source": [
    "top_models = (\n",
    "    frontier_df\n",
    "    .groupby([\"Model Name\", \"Organization\"])[\"Benchmark Score\"]\n",
    "    .mean()\n",
    "    .reset_index()\n",
    "    .sort_values(by=\"Benchmark Score\", ascending=False)\n",
    ")\n",
    "\n",
    "top_models.head()\n"
   ]
  },
  {
   "cell_type": "markdown",
   "id": "ad360b9f",
   "metadata": {},
   "source": [
    "So, these are the top 10 scoring AI's  \n",
    "\n",
    "It's interesting to note how Open AI's are leading this, but here's the question, \n",
    "\n",
    "## **what would classify as a good score?**"
   ]
  },
  {
   "cell_type": "code",
   "execution_count": 72,
   "id": "e7ab91dd",
   "metadata": {},
   "outputs": [
    {
     "data": {
      "text/plain": [
       "count    60.000000\n",
       "mean      0.043969\n",
       "std       0.076757\n",
       "min       0.000000\n",
       "25%       0.000000\n",
       "50%       0.008621\n",
       "75%       0.056034\n",
       "90%       0.110560\n",
       "max       0.400000\n",
       "Name: Benchmark Score, dtype: float64"
      ]
     },
     "execution_count": 72,
     "metadata": {},
     "output_type": "execute_result"
    }
   ],
   "source": [
    "frontier_df[\"Benchmark Score\"].describe(percentiles=[.25, .5, .75, .9])"
   ]
  },
  {
   "cell_type": "markdown",
   "id": "268809fc",
   "metadata": {},
   "source": [
    "So, based on this:\n",
    "\n",
    "We define score tiers based on percentile rankings across all entries:\n",
    "- **Exceptional**: Top 10% (> 0.11)\n",
    "- **Strong**: Top 25% (> 0.07)\n",
    "- **Average**: ~0.03\n",
    "- **Weak**: < 0.01\n",
    "\n",
    "Very few models score above 0.1, showing how difficult these tasks are.\n",
    "\n"
   ]
  },
  {
   "cell_type": "markdown",
   "id": "7918a40a",
   "metadata": {},
   "source": [
    "So, we have done our numerical steps such as filtering our dataset and classifying our goal of what is our score thresholds.\n",
    "\n",
    "Now it's time to visualize which AI is the best at math. Let's start by analyzing which country could be the best. Now, we know countries developing AI's are limited, so we have an idea it could be skewed, but it could still be beneficial."
   ]
  },
  {
   "cell_type": "code",
   "execution_count": 73,
   "id": "7c939059",
   "metadata": {},
   "outputs": [
    {
     "name": "stderr",
     "output_type": "stream",
     "text": [
      "C:\\Users\\vgeor\\AppData\\Local\\Temp\\ipykernel_19060\\689282467.py:10: FutureWarning: \n",
      "\n",
      "Passing `palette` without assigning `hue` is deprecated and will be removed in v0.14.0. Assign the `y` variable to `hue` and set `legend=False` for the same effect.\n",
      "\n",
      "  sns.barplot(data=country_avg.head(7), x=\"Benchmark Score\", y=\"Country\", palette=\"dark\")\n"
     ]
    },
    {
     "data": {
      "image/png": "[encoded data removed]",
      "text/plain": [
       "<Figure size 1000x500 with 1 Axes>"
      ]
     },
     "metadata": {},
     "output_type": "display_data"
    }
   ],
   "source": [
    "country_avg = (\n",
    "    frontier_df\n",
    "    .groupby(\"Country\")[\"Benchmark Score\"]\n",
    "    .mean()\n",
    "    .sort_values(ascending=False)\n",
    "    .reset_index()\n",
    ")\n",
    "\n",
    "plt.figure(figsize=(10, 5))\n",
    "sns.barplot(data=country_avg.head(7), x=\"Benchmark Score\", y=\"Country\", palette=\"dark\")\n",
    "\n",
    "plt.title(\"Top Countries by Avg FrontierMath Score\", fontsize=14)\n",
    "plt.xlabel(\"Average Score\", fontsize=12)\n",
    "plt.ylabel(\"Country\", fontsize=12)\n",
    "plt.tight_layout()\n",
    "plt.show()\n"
   ]
  },
  {
   "cell_type": "markdown",
   "id": "6ed1aeae",
   "metadata": {},
   "source": [
    "So again, here we can limit our analysis for \"best\" AI to US models\n",
    "\n",
    "Hence, a model like DeepSeek may not be the best model for Math (although it could be the best at something else). So as we expected in terms of the skew"
   ]
  },
  {
   "cell_type": "markdown",
   "id": "250b2a57",
   "metadata": {},
   "source": [
    "We could also do a histogram for score distrubution, which shows how rare high scores really are, backing up our \"exceptional/strong/weak\" categories"
   ]
  },
  {
   "cell_type": "code",
   "execution_count": 78,
   "id": "51b1b424",
   "metadata": {},
   "outputs": [
    {
     "data": {
      "image/png": "[encoded data removed]",
      "text/plain": [
       "<Figure size 900x500 with 1 Axes>"
      ]
     },
     "metadata": {},
     "output_type": "display_data"
    }
   ],
   "source": [
    "plt.figure(figsize=(9, 5))\n",
    "sns.histplot(frontier_df[\"Benchmark Score\"], bins=30, kde=True)\n",
    "plt.axvline(0.11, color='green', linestyle='--', label='Exceptional Threshold')\n",
    "plt.axvline(0.07, color='orange', linestyle='--', label='Strong Threshold')\n",
    "plt.axvline(0.01, color='red', linestyle='--', label='Weak Threshold')\n",
    "\n",
    "plt.title(\"Distribution of AI Scores on FrontierMath Benchmarks\", fontsize=14)\n",
    "plt.xlabel(\"Benchmark Score\")\n",
    "plt.ylabel(\"Frequency\")\n",
    "plt.legend()\n",
    "plt.tight_layout()\n",
    "plt.show()"
   ]
  },
  {
   "cell_type": "markdown",
   "id": "ba34cc33",
   "metadata": {},
   "source": [
    "I chose these colors because it's easier to pre-attentively associate:\n",
    "\n",
    "**A. Red to low/bad performance (Weak)**\n",
    "\n",
    "**B. Orange to moderate but not outstanding (Strong)**\n",
    "\n",
    "**C. Green to excellent performance (Exceptional or \"go\")**\n",
    "\n",
    "\n",
    "However, analyzing it further...\n",
    "\n",
    "- Most AI models fall below the 0.01 \"Weak\" threshold, this indicates that the vast majority of models struggle with FrontierMath, validating the benchmark’s difficulty.\n",
    "\n",
    "- The distribution is right-skewed, meaning only a few \"exceptional\" models achieve strong or exceptional scores.\n",
    "\n",
    "- The Exceptional threshold (> 0.11) is rarely crossed, and only by a select group of top-tier models like GPT-4 and Claude 3 Opus.\n",
    "\n",
    "- The Strong tier (0.07–0.11) has only a handful of entries, indicating that \"good\" performance is already a high bar.\n",
    "\n",
    "- This histogram justifies why average score alone isn't enough, context matters, and percentile tiers help us better interpret what “best” actually means.\n",
    "\n",
    "By visualizing the distribution and thresholds clearly, we give the general audience a way to understand just how hard it is for AI models to do well on these math benchmarks.\n",
    "\n"
   ]
  },
  {
   "cell_type": "markdown",
   "id": "ea8cf5d7",
   "metadata": {},
   "source": [
    "With all of these out of the way, now we need to: \n",
    "\n",
    "## Visualize Top 10 AI Models"
   ]
  },
  {
   "cell_type": "code",
   "execution_count": 74,
   "id": "51f5128c",
   "metadata": {},
   "outputs": [
    {
     "data": {
      "image/png": "[encoded data removed]",
      "text/plain": [
       "<Figure size 800x600 with 1 Axes>"
      ]
     },
     "metadata": {},
     "output_type": "display_data"
    }
   ],
   "source": [
    "plt.figure(figsize=(8, 6))\n",
    "top10 = top_models.head(10)\n",
    "\n",
    "barplot = sns.barplot(\n",
    "    data=top10,\n",
    "    y=\"Model Name\",\n",
    "    x=\"Benchmark Score\",\n",
    "    hue=\"Organization\",\n",
    "    dodge=False,\n",
    "    palette=\"deep\"\n",
    ")\n",
    "\n",
    "# Styling: remove clutter\n",
    "barplot.legend().remove()  # remove legend for cleaner layout\n",
    "barplot.set_xlabel(\"Avg Score on FrontierMath\", fontsize=12)\n",
    "barplot.set_ylabel(\"AI Model\", fontsize=12)\n",
    "plt.title(\"Top 10 AI Models on FrontierMath Benchmarks\", fontsize=14)\n",
    "sns.despine()  # remove top/right borders\n",
    "plt.tight_layout()\n",
    "\n",
    "plt.show()\n"
   ]
  },
  {
   "cell_type": "markdown",
   "id": "5daf3c40",
   "metadata": {},
   "source": [
    "This horizontal bar chart shows the top 10 AI models based on their average performance on the FrontierMath benchmarks. It follows best data viz practices by:\n",
    "- Removing borders and gridlines\n",
    "- Avoiding legends in favor of direct labeling\n",
    "- Using a consistent color scheme\n",
    "- Simplifying axes and labels\n",
    "\n",
    "Now, concluding on this graph:\n",
    "\n",
    "- Although many models are well known, only a few surpass the benchmark thresholds that qualify as strong or exceptional performance.\n",
    "\n",
    "- The top three models (o4-mini, o3-mini, and o3) stand out significantly, each exceeding the 0.11 Exceptional threshold by a clear margin.\n",
    "\n",
    "- Claude 3.7 Sonnet, colored in green, demonstrates solid performance and represents one of the few non-OpenAI models to approach or pass the Exceptional mark.\n",
    "\n",
    "- Grok-3 mini and Grok-3 fall into the Strong category, showing that xAI models have potential but still lag behind the top performers.\n",
    "\n",
    "- Most other models, including GPT-4.1 and o1, fall below the Exceptional threshold, and some even below the Strong threshold, underscoring the difficulty of FrontierMath.\n",
    "\n",
    "In essence, this ranking provides direct evidence of performance gaps between leading AI developers and helps identify which models consistently excel at complex mathematical reasoning."
   ]
  },
  {
   "cell_type": "markdown",
   "id": "c8a14d7f",
   "metadata": {},
   "source": [
    "so now we have some visualizations, let's export this new dataframe, use it in Google Looker Studio and go from there"
   ]
  },
  {
   "cell_type": "code",
   "execution_count": 75,
   "id": "31b0532b",
   "metadata": {},
   "outputs": [],
   "source": [
    "frontier_df.to_csv(\"frontier_math_filtered.csv\", index=False)\n"
   ]
  }
 ],
 "metadata": {
  "kernelspec": {
   "display_name": "Python 3",
   "language": "python",
   "name": "python3"
  },
  "language_info": {
   "codemirror_mode": {
    "name": "ipython",
    "version": 3
   },
   "file_extension": ".py",
   "mimetype": "text/x-python",
   "name": "python",
   "nbconvert_exporter": "python",
   "pygments_lexer": "ipython3",
   "version": "3.12.6"
  }
 },
 "nbformat": 4,
 "nbformat_minor": 5
}
